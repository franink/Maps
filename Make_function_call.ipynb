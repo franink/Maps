{
 "cells": [
  {
   "cell_type": "code",
   "execution_count": 1,
   "metadata": {
    "collapsed": false
   },
   "outputs": [],
   "source": [
    "import sys\n",
    "import os\n",
    "import csv\n",
    "from osgeo import ogr\n",
    "import pandas as pd\n",
    "from random import uniform"
   ]
  },
  {
   "cell_type": "code",
   "execution_count": 2,
   "metadata": {
    "collapsed": true
   },
   "outputs": [],
   "source": [
    "def LoadFile(infile):\n",
    "    \"\"\"\n",
    "    infile is a string with the file name\n",
    "    Loads a .csv file for a single subject and takes the \"practice\", lines\n",
    "    \"\"\"\n",
    "    state_db = []\n",
    "    fin = open(infile, 'U')\n",
    "    original_db = csv.reader(fin)\n",
    "    for row in original_db:\n",
    "        state_db.append(row)\n",
    "    fin.close()\n",
    "    return state_db\n"
   ]
  },
  {
   "cell_type": "code",
   "execution_count": 3,
   "metadata": {
    "collapsed": true
   },
   "outputs": [],
   "source": [
    "def Extract_Racial_Data(state_db):\n",
    "    \"\"\"\n",
    "    state_db is a single state database with info about population by race for each cenus block\n",
    "    this function returns a cropped database with only 5 racial categories: non-hispanic white,\n",
    "    non-hispanic black, non hispanic asian, hispanic, non hiapanic other, the GISJOIN code, state code, \n",
    "    state name, and total population.\n",
    "    \"\"\"\n",
    "    crop_state_db = []\n",
    "    state_db[0].append('NH_White')\n",
    "    state_db[0].append('NH_Black')\n",
    "    state_db[0].append('NH_Asian')\n",
    "    state_db[0].append('Hispanic')\n",
    "    state_db[0].append('Other')\n",
    "    state_db[0].append('Total')\n",
    "    indGISJOIN = state_db[0].index('GISJOIN')\n",
    "    indSTATE = state_db[0].index('STATE')\n",
    "    indSTATEA = state_db[0].index('STATEA')\n",
    "    indCDA = state_db[0].index('CDA')   #COngressional district\n",
    "    indPOP = state_db[0].index('H7Z001') #This code is temporary I'm waiting for the real codes from downloaded table\n",
    "    indPOP_White = state_db[0].index('H7Z003') #These codes are from the original table used to make the new ones\n",
    "    indPOP_NonLatino = state_db[0].index('H7Z002')\n",
    "    indPOP_Black = state_db[0].index('H7Z004')\n",
    "    indPOP_Asian = state_db[0].index('H7Z006')\n",
    "    indPOP_Hispanic = state_db[0].index('H7Z010')\n",
    "    indNH_White = state_db[0].index('NH_White')\n",
    "    indNH_Black = state_db[0].index('NH_Black')\n",
    "    indNH_Asian = state_db[0].index('NH_Asian')\n",
    "    indHispanic = state_db[0].index('Hispanic')\n",
    "    indOther = state_db[0].index('Other')\n",
    "    indTotal = state_db[0].index('Total')\n",
    "    crop_state_db = [[state_db[0][indGISJOIN],state_db[0][indSTATE],state_db[0][indSTATEA],\n",
    "                      state_db[0][indCDA],state_db[0][indNH_White],state_db[0][indNH_Black],state_db[0][indNH_Asian]\n",
    "                      ,state_db[0][indHispanic],state_db[0][indOther],state_db[0][indTotal]]]\n",
    "    for line in range(2, len(state_db)):\n",
    "        tmp = []\n",
    "        state_db[line].extend([0,0,0,0,0,0])\n",
    "        state_db[line][indPOP] = int(state_db[line][indPOP])\n",
    "        state_db[line][indPOP_NonLatino] = int(state_db[line][indPOP_NonLatino])\n",
    "        state_db[line][indNH_White] = int(state_db[line][indPOP_White])\n",
    "        state_db[line][indNH_Black] = int(state_db[line][indPOP_Black]) \n",
    "        state_db[line][indNH_Asian] = int(state_db[line][indPOP_Asian]) \n",
    "        state_db[line][indHispanic] = int(state_db[line][indPOP_Hispanic]) \n",
    "        state_db[line][indOther] = int(state_db[line][indPOP_NonLatino]) - int(state_db[line][indPOP_White]) - int(state_db[line][indPOP_Black]) - int(state_db[line][indPOP_Asian])\n",
    "        state_db[line][indTotal] = int(state_db[line][indPOP])\n",
    "        tmp = [state_db[line][indGISJOIN],state_db[line][indSTATE],state_db[line][indSTATEA],\n",
    "                      state_db[line][indCDA],state_db[line][indNH_White],state_db[line][indNH_Black],state_db[line][indNH_Asian]\n",
    "                      ,state_db[line][indHispanic],state_db[line][indOther],state_db[line][indTotal]]\n",
    "        crop_state_db.append(tmp)\n",
    "    return crop_state_db"
   ]
  },
  {
   "cell_type": "code",
   "execution_count": 4,
   "metadata": {
    "collapsed": true
   },
   "outputs": [],
   "source": [
    "def Make_CSV_Out(crop_state_db):\n",
    "    \"\"\"\n",
    "    Take crop_state_db as input and create a csv file with the relevant data\n",
    "    \"\"\"\n",
    "    IndState_Code = crop_state_db[0].index('STATEA')\n",
    "    state_code = crop_state_db[1][IndState_Code]\n",
    "    name = '%s/cropped_state_%s_test.csv' % (filepath, state_code)\n",
    "    fou = open(name, 'w')\n",
    "    datawriter = csv.writer(fou, dialect='excel')\n",
    "    for row in crop_state_db:\n",
    "        datawriter.writerow(row)\n",
    "    fou.close()"
   ]
  },
  {
   "cell_type": "code",
   "execution_count": 5,
   "metadata": {
    "collapsed": false
   },
   "outputs": [],
   "source": [
    "filepath = '/Users/frankanayet/Documents/Research/Personal/Maps'\n",
    "#os.chdir(filepath)\n",
    "sys.path.append(filepath)\n",
    "#state = ['1', '15', '32']\n",
    "#state = ['12', '17', '36', '39', '42', '48', '4', '5', '8',\n",
    "#          '9', '13', '16', '18', '19', '20', '21', '22', '23', '24',\n",
    "#         '25', '26', '27', '28', '29', '31', '33', '34', '35', '37', '40']\n",
    "#state = ['41', '45', '47', '49', '51', '53', '54', '55']\n",
    "state = ['44']\n",
    "state_dict = {'1':'AL','2':'AK','4':'AZ','5':'AR','6':'CA','8':'CO','9':'CT','10':'DE',\n",
    "              '11':'DC','12':'FL','13':'GA','15':'HI','16':'ID','17':'IL','18':'IN',\n",
    "              '19':'IA','20':'KS','21':'KY','22':'LA','23':'ME','24':'MD','25':'MA',\n",
    "              '26':'MI','27':'MN','28':'MS','29':'MO','30':'MT','31':'NE','32':'NV',\n",
    "              '33':'NH','34':'NJ','35':'NM','36':'NY','37':'NC','38':'ND','39':'OH',\n",
    "              '40':'OK','41':'OR','42':'PA','44':'RI','45':'SC','46':'SD','47':'TN',\n",
    "              '48':'TX','49':'UT','50':'VT','51':'VA','53':'WA','54':'WV','55':'WI',\n",
    "              '56':'WY'}"
   ]
  },
  {
   "cell_type": "code",
   "execution_count": 6,
   "metadata": {
    "collapsed": false
   },
   "outputs": [
    {
     "data": {
      "text/plain": [
       "u'/Users/frankanayet/Documents/Research/Personal/Maps'"
      ]
     },
     "execution_count": 6,
     "metadata": {},
     "output_type": "execute_result"
    }
   ],
   "source": [
    "pwd"
   ]
  },
  {
   "cell_type": "code",
   "execution_count": 7,
   "metadata": {
    "collapsed": true
   },
   "outputs": [],
   "source": [
    "st = '44'"
   ]
  },
  {
   "cell_type": "code",
   "execution_count": 8,
   "metadata": {
    "collapsed": false
   },
   "outputs": [],
   "source": [
    "infile = 'nhgis0005_csv/nhgis0005_ds172_2010_block_'+st+'.csv'\n",
    "state_db = LoadFile(infile)\n",
    "crop_state_db = Extract_Racial_Data(state_db)\n",
    "Make_CSV_Out(crop_state_db)\n",
    "IndState_Code = crop_state_db[0].index('STATEA')\n",
    "state_code = crop_state_db[1][IndState_Code] # this will be generalized when there is a list of states"
   ]
  },
  {
   "cell_type": "code",
   "execution_count": 9,
   "metadata": {
    "collapsed": false
   },
   "outputs": [
    {
     "data": {
      "text/plain": [
       "'nhgis0005_csv/nhgis0005_ds172_2010_block_44.csv'"
      ]
     },
     "execution_count": 9,
     "metadata": {},
     "output_type": "execute_result"
    }
   ],
   "source": [
    "infile"
   ]
  },
  {
   "cell_type": "code",
   "execution_count": 10,
   "metadata": {
    "collapsed": false
   },
   "outputs": [
    {
     "data": {
      "text/plain": [
       "25182"
      ]
     },
     "execution_count": 10,
     "metadata": {},
     "output_type": "execute_result"
    }
   ],
   "source": [
    "len(crop_state_db)"
   ]
  },
  {
   "cell_type": "code",
   "execution_count": 11,
   "metadata": {
    "collapsed": false
   },
   "outputs": [],
   "source": [
    "IndState_Code = crop_state_db[0].index('STATEA')"
   ]
  },
  {
   "cell_type": "code",
   "execution_count": 12,
   "metadata": {
    "collapsed": false
   },
   "outputs": [
    {
     "data": {
      "text/plain": [
       "2"
      ]
     },
     "execution_count": 12,
     "metadata": {},
     "output_type": "execute_result"
    }
   ],
   "source": [
    "IndState_Code"
   ]
  },
  {
   "cell_type": "code",
   "execution_count": 13,
   "metadata": {
    "collapsed": true
   },
   "outputs": [],
   "source": [
    "state_code = crop_state_db[1][IndState_Code]"
   ]
  },
  {
   "cell_type": "code",
   "execution_count": 14,
   "metadata": {
    "collapsed": false
   },
   "outputs": [
    {
     "data": {
      "text/plain": [
       "'44'"
      ]
     },
     "execution_count": 14,
     "metadata": {},
     "output_type": "execute_result"
    }
   ],
   "source": [
    "state_code"
   ]
  },
  {
   "cell_type": "code",
   "execution_count": 15,
   "metadata": {
    "collapsed": true
   },
   "outputs": [],
   "source": [
    "crop_file = 'cropped_state_%s.csv' % (state_code)"
   ]
  },
  {
   "cell_type": "code",
   "execution_count": 16,
   "metadata": {
    "collapsed": false
   },
   "outputs": [],
   "source": [
    "fin = open(crop_file, 'U')\n",
    "line_reader = csv.reader(fin)\n",
    "counter = 0\n",
    "GIStoIndex = {}\n",
    "IndexToGIS = {}"
   ]
  },
  {
   "cell_type": "code",
   "execution_count": 17,
   "metadata": {
    "collapsed": true
   },
   "outputs": [],
   "source": [
    "for row in line_reader:\n",
    "    if not (row[0] in GIStoIndex):\n",
    "        GIStoIndex[row[0]] = counter\n",
    "        IndexToGIS[counter] = row[0]\n",
    "    counter += 1\n",
    "fin.close() "
   ]
  },
  {
   "cell_type": "code",
   "execution_count": 18,
   "metadata": {
    "collapsed": false
   },
   "outputs": [
    {
     "data": {
      "text/plain": [
       "25182"
      ]
     },
     "execution_count": 18,
     "metadata": {},
     "output_type": "execute_result"
    }
   ],
   "source": [
    "len(GIStoIndex)"
   ]
  },
  {
   "cell_type": "code",
   "execution_count": 19,
   "metadata": {
    "collapsed": false
   },
   "outputs": [
    {
     "data": {
      "text/plain": [
       "25182"
      ]
     },
     "execution_count": 19,
     "metadata": {},
     "output_type": "execute_result"
    }
   ],
   "source": [
    "len(IndexToGIS)"
   ]
  },
  {
   "cell_type": "code",
   "execution_count": 20,
   "metadata": {
    "collapsed": true
   },
   "outputs": [],
   "source": [
    "state_name = state_dict[st]\n",
    "ds = ogr.Open('nhgis0005_shapefile_tl2010_'+st+'0_block_2010/'+state_name+'_block_2010.shp')\n",
    "if ds is None:\n",
    "    print \"Open failed.\\n\"\n",
    "    sys.exit(1)"
   ]
  },
  {
   "cell_type": "code",
   "execution_count": 21,
   "metadata": {
    "collapsed": true
   },
   "outputs": [],
   "source": [
    "lyr = ds.GetLayerByIndex(0)"
   ]
  },
  {
   "cell_type": "code",
   "execution_count": 22,
   "metadata": {
    "collapsed": false
   },
   "outputs": [
    {
     "data": {
      "text/plain": [
       "24738"
      ]
     },
     "execution_count": 22,
     "metadata": {},
     "output_type": "execute_result"
    }
   ],
   "source": [
    "len(lyr)"
   ]
  },
  {
   "cell_type": "code",
   "execution_count": 23,
   "metadata": {
    "collapsed": true
   },
   "outputs": [],
   "source": [
    "lyr.ResetReading()\n",
    "    \n",
    "feat_defn = lyr.GetLayerDefn()\n",
    "    \n",
    "field_defns = [feat_defn.GetFieldDefn(i) for i in range(feat_defn.GetFieldCount())]"
   ]
  },
  {
   "cell_type": "code",
   "execution_count": 24,
   "metadata": {
    "collapsed": false
   },
   "outputs": [
    {
     "data": {
      "text/plain": [
       "24738"
      ]
     },
     "execution_count": 24,
     "metadata": {},
     "output_type": "execute_result"
    }
   ],
   "source": [
    "n_features = len(lyr)\n",
    "n_features"
   ]
  },
  {
   "cell_type": "code",
   "execution_count": 25,
   "metadata": {
    "collapsed": false
   },
   "outputs": [
    {
     "data": {
      "text/plain": [
       "650.310510365"
      ]
     },
     "execution_count": 25,
     "metadata": {},
     "output_type": "execute_result"
    }
   ],
   "source": [
    "lyr[0].GetField('GISJOIN') #same code as crop file\n",
    "lyr[0].GetField('STATEFP10') #state code\n",
    "lyr[0].GetField('ALAND10')  #LAND AREA?\n",
    "lyr[0].GetField('AWATER10') #WATER AREA?\n",
    "lyr[0].GetField('INTPTLAT10') #LATITUDE?\n",
    "lyr[0].GetField('INTPTLON10') #LONGITUDE?\n",
    "lyr[0].GetField('Shape_area')\n",
    "lyr[0].GetField('Shape_len')"
   ]
  },
  {
   "cell_type": "code",
   "execution_count": 26,
   "metadata": {
    "collapsed": false
   },
   "outputs": [
    {
     "data": {
      "text/plain": [
       "'G44000100304002022'"
      ]
     },
     "execution_count": 26,
     "metadata": {},
     "output_type": "execute_result"
    }
   ],
   "source": [
    " lyr[0].GetField('GISJOIN')"
   ]
  },
  {
   "cell_type": "code",
   "execution_count": 27,
   "metadata": {
    "collapsed": true
   },
   "outputs": [],
   "source": [
    "pop_dat = pd.read_csv(crop_file)\n",
    "#xlon,xlat and mx,my are not necessarily the same point but are central points inside the block\n",
    "x_y_dataFields = ['GISJOIN', 'State', 'ConDis', 'mx', 'my']\n",
    "x_y_data = []\n",
    "x_y_data.append(x_y_dataFields)"
   ]
  },
  {
   "cell_type": "code",
   "execution_count": 28,
   "metadata": {
    "collapsed": false
   },
   "outputs": [
    {
     "data": {
      "text/plain": [
       "[['GISJOIN', 'State', 'ConDis', 'mx', 'my']]"
      ]
     },
     "execution_count": 28,
     "metadata": {},
     "output_type": "execute_result"
    }
   ],
   "source": [
    "x_y_data"
   ]
  },
  {
   "cell_type": "code",
   "execution_count": 29,
   "metadata": {
    "collapsed": false
   },
   "outputs": [
    {
     "data": {
      "text/plain": [
       "2104"
      ]
     },
     "execution_count": 29,
     "metadata": {},
     "output_type": "execute_result"
    }
   ],
   "source": [
    "GIStoIndex['G44000300207011009']"
   ]
  },
  {
   "cell_type": "code",
   "execution_count": 30,
   "metadata": {
    "collapsed": true
   },
   "outputs": [],
   "source": [
    "import glob as glob"
   ]
  },
  {
   "cell_type": "code",
   "execution_count": 31,
   "metadata": {
    "collapsed": false
   },
   "outputs": [
    {
     "data": {
      "text/plain": [
       "['/Users/frankanayet/Desktop/Maps/xx_y_state_44_NAD83_FULL.csv']"
      ]
     },
     "execution_count": 31,
     "metadata": {},
     "output_type": "execute_result"
    }
   ],
   "source": [
    "states_xy = glob.glob('/Users/frankanayet/Desktop/Maps/xx_y*.csv')\n",
    "states_xy"
   ]
  },
  {
   "cell_type": "code",
   "execution_count": 32,
   "metadata": {
    "collapsed": false
   },
   "outputs": [
    {
     "data": {
      "text/plain": [
       "['nhgis0005_shapefile_tl2010_10_block_2010/AL_block_2010.shp',\n",
       " 'nhgis0005_shapefile_tl2010_120_block_2010/FL_block_2010.shp',\n",
       " 'nhgis0005_shapefile_tl2010_130_block_2010/GA_block_2010.shp',\n",
       " 'nhgis0005_shapefile_tl2010_150_block_2010/HI_block_2010.shp',\n",
       " 'nhgis0005_shapefile_tl2010_160_block_2010/ID_block_2010.shp',\n",
       " 'nhgis0005_shapefile_tl2010_170_block_2010/IL_block_2010.shp',\n",
       " 'nhgis0005_shapefile_tl2010_180_block_2010/IN_block_2010.shp',\n",
       " 'nhgis0005_shapefile_tl2010_190_block_2010/IA_block_2010.shp',\n",
       " 'nhgis0005_shapefile_tl2010_200_block_2010/KS_block_2010.shp',\n",
       " 'nhgis0005_shapefile_tl2010_210_block_2010/KY_block_2010.shp',\n",
       " 'nhgis0005_shapefile_tl2010_220_block_2010/LA_block_2010.shp',\n",
       " 'nhgis0005_shapefile_tl2010_230_block_2010/ME_block_2010.shp',\n",
       " 'nhgis0005_shapefile_tl2010_240_block_2010/MD_block_2010.shp',\n",
       " 'nhgis0005_shapefile_tl2010_250_block_2010/MA_block_2010.shp',\n",
       " 'nhgis0005_shapefile_tl2010_260_block_2010/MI_block_2010.shp',\n",
       " 'nhgis0005_shapefile_tl2010_270_block_2010/MN_block_2010.shp',\n",
       " 'nhgis0005_shapefile_tl2010_280_block_2010/MS_block_2010.shp',\n",
       " 'nhgis0005_shapefile_tl2010_290_block_2010/MO_block_2010.shp',\n",
       " 'nhgis0005_shapefile_tl2010_310_block_2010/NE_block_2010.shp',\n",
       " 'nhgis0005_shapefile_tl2010_320_block_2010/NV_block_2010.shp',\n",
       " 'nhgis0005_shapefile_tl2010_330_block_2010/NH_block_2010.shp',\n",
       " 'nhgis0005_shapefile_tl2010_340_block_2010/NJ_block_2010.shp',\n",
       " 'nhgis0005_shapefile_tl2010_350_block_2010/NM_block_2010.shp',\n",
       " 'nhgis0005_shapefile_tl2010_360_block_2010/NY_block_2010.shp',\n",
       " 'nhgis0005_shapefile_tl2010_370_block_2010/NC_block_2010.shp',\n",
       " 'nhgis0005_shapefile_tl2010_390_block_2010/OH_block_2010.shp',\n",
       " 'nhgis0005_shapefile_tl2010_400_block_2010/OK_block_2010.shp',\n",
       " 'nhgis0005_shapefile_tl2010_40_block_2010/AZ_block_2010.shp',\n",
       " 'nhgis0005_shapefile_tl2010_410_block_2010/OR_block_2010.shp',\n",
       " 'nhgis0005_shapefile_tl2010_420_block_2010/PA_block_2010.shp',\n",
       " 'nhgis0005_shapefile_tl2010_440_block_2010/RI_block_2010.shp',\n",
       " 'nhgis0005_shapefile_tl2010_450_block_2010/SC_block_2010.shp',\n",
       " 'nhgis0005_shapefile_tl2010_470_block_2010/TN_block_2010.shp',\n",
       " 'nhgis0005_shapefile_tl2010_480_block_2010/TX_block_2010.shp',\n",
       " 'nhgis0005_shapefile_tl2010_490_block_2010/UT_block_2010.shp',\n",
       " 'nhgis0005_shapefile_tl2010_50_block_2010/AR_block_2010.shp',\n",
       " 'nhgis0005_shapefile_tl2010_510_block_2010/VA_block_2010.shp',\n",
       " 'nhgis0005_shapefile_tl2010_530_block_2010/WA_block_2010.shp',\n",
       " 'nhgis0005_shapefile_tl2010_540_block_2010/WV_block_2010.shp',\n",
       " 'nhgis0005_shapefile_tl2010_550_block_2010/WI_block_2010.shp',\n",
       " 'nhgis0005_shapefile_tl2010_60_block_2010/CA_block_2010.shp',\n",
       " 'nhgis0005_shapefile_tl2010_80_block_2010/CO_block_2010.shp',\n",
       " 'nhgis0005_shapefile_tl2010_90_block_2010/CT_block_2010.shp']"
      ]
     },
     "execution_count": 32,
     "metadata": {},
     "output_type": "execute_result"
    }
   ],
   "source": [
    "states_shp = glob.glob('nhgis0005_shapefile_tl2010_*_block_2010/*.shp')\n",
    "states_shp"
   ]
  },
  {
   "cell_type": "code",
   "execution_count": 33,
   "metadata": {
    "collapsed": true
   },
   "outputs": [],
   "source": [
    "states = ['1','4','5','6','8','9',\n",
    "              '12','13','15','16','17','18',\n",
    "              '19','20','21','22','23','24','25',\n",
    "              '26','27','28','29','31','32',\n",
    "              '33','34','35','36','37','39',\n",
    "              '40','41','42','44','45','47',\n",
    "              '48','49','51','53','54','55']"
   ]
  },
  {
   "cell_type": "code",
   "execution_count": 34,
   "metadata": {
    "collapsed": false
   },
   "outputs": [
    {
     "ename": "IndexError",
     "evalue": "list index out of range",
     "output_type": "error",
     "traceback": [
      "\u001b[0;31m---------------------------------------------------------------------------\u001b[0m",
      "\u001b[0;31mIndexError\u001b[0m                                Traceback (most recent call last)",
      "\u001b[0;32m<ipython-input-34-fed8eee08777>\u001b[0m in \u001b[0;36m<module>\u001b[0;34m()\u001b[0m\n\u001b[0;32m----> 1\u001b[0;31m \u001b[0mdb\u001b[0m \u001b[0;34m=\u001b[0m \u001b[0mpd\u001b[0m\u001b[0;34m.\u001b[0m\u001b[0mread_csv\u001b[0m\u001b[0;34m(\u001b[0m\u001b[0mstates_xy\u001b[0m\u001b[0;34m[\u001b[0m\u001b[0;36m7\u001b[0m\u001b[0;34m]\u001b[0m\u001b[0;34m)\u001b[0m\u001b[0;34m\u001b[0m\u001b[0m\n\u001b[0m",
      "\u001b[0;31mIndexError\u001b[0m: list index out of range"
     ]
    }
   ],
   "source": [
    "db = pd.read_csv(states_xy[7])"
   ]
  },
  {
   "cell_type": "code",
   "execution_count": 35,
   "metadata": {
    "collapsed": false
   },
   "outputs": [
    {
     "ename": "NameError",
     "evalue": "name 'db' is not defined",
     "output_type": "error",
     "traceback": [
      "\u001b[0;31m---------------------------------------------------------------------------\u001b[0m",
      "\u001b[0;31mNameError\u001b[0m                                 Traceback (most recent call last)",
      "\u001b[0;32m<ipython-input-35-077fa495ea4a>\u001b[0m in \u001b[0;36m<module>\u001b[0;34m()\u001b[0m\n\u001b[0;32m----> 1\u001b[0;31m \u001b[0mlen\u001b[0m\u001b[0;34m(\u001b[0m\u001b[0mdb\u001b[0m\u001b[0;34m.\u001b[0m\u001b[0mGISJOIN\u001b[0m\u001b[0;34m.\u001b[0m\u001b[0munique\u001b[0m\u001b[0;34m(\u001b[0m\u001b[0;34m)\u001b[0m\u001b[0;34m)\u001b[0m\u001b[0;34m\u001b[0m\u001b[0m\n\u001b[0m",
      "\u001b[0;31mNameError\u001b[0m: name 'db' is not defined"
     ]
    }
   ],
   "source": [
    "len(db.GISJOIN.unique())"
   ]
  },
  {
   "cell_type": "code",
   "execution_count": 46,
   "metadata": {
    "collapsed": false
   },
   "outputs": [
    {
     "name": "stdout",
     "output_type": "stream",
     "text": [
      "1\n",
      "251720\n",
      "4\n",
      "241666\n",
      "5\n",
      "186211\n",
      "6\n",
      "708078\n",
      "8\n",
      "201062\n",
      "9\n",
      "66966\n",
      "12\n",
      "477683\n",
      "13\n",
      "290406\n",
      "15\n",
      "23979\n",
      "16\n",
      "149842\n",
      "17\n",
      "451426\n",
      "18\n",
      "267014\n",
      "19\n",
      "216007\n",
      "20\n",
      "238600\n",
      "21\n",
      "161672\n",
      "22\n",
      "203447\n",
      "23\n",
      "67681\n",
      "24\n",
      "140563\n",
      "25\n",
      "155463\n",
      "26\n",
      "327855\n",
      "27\n",
      "259630\n",
      "28\n",
      "171339\n",
      "29\n",
      "343565\n",
      "31\n",
      "193352\n",
      "32\n",
      "84538\n",
      "33\n",
      "48758\n",
      "34\n",
      "168199\n",
      "35\n",
      "168609\n",
      "36\n",
      "347985\n",
      "37\n",
      "286395\n",
      "39\n",
      "365056\n",
      "40\n",
      "269118\n",
      "41\n",
      "195918\n",
      "42\n",
      "421471\n",
      "44\n",
      "24738\n",
      "45\n",
      "180221\n",
      "47\n",
      "240116\n",
      "48\n",
      "912889\n",
      "49\n",
      "115406\n",
      "51\n",
      "281230\n",
      "53\n",
      "192211\n",
      "54\n",
      "135218\n",
      "55\n",
      "252505\n"
     ]
    }
   ],
   "source": [
    "GIS_diff = []\n",
    "crop_diff = []\n",
    "for st in states:\n",
    "    print st\n",
    "    state_shp = 'nhgis0005_shapefile_tl2010_'+st+'0_block_2010/'+state_dict[st]+'_block_2010.shp'\n",
    "    state_xy = 'xx_y_state_'+st+'_NAD83_FULL.csv'\n",
    "    if len(st) == 1:\n",
    "        state_crop = 'cropped_state_0'+st+'.csv'\n",
    "    else:\n",
    "        state_crop = 'cropped_state_'+st+'.csv'\n",
    "    ds = ogr.Open(state_shp)\n",
    "    if ds is None:\n",
    "        print \"Open failed.\\n\"\n",
    "        sys.exit(1)\n",
    "    db = pd.read_csv(state_xy)\n",
    "    db_crop = pd.read_csv(state_crop)\n",
    "    xy_len = len(db.GISJOIN.unique())\n",
    "    crop_len = len(db_crop.GISJOIN.unique())\n",
    "    lyr = ds.GetLayerByIndex(0)\n",
    "    shp_len = len(lyr)\n",
    "    print shp_len\n",
    "    xy_shp = xy_len - shp_len\n",
    "    GIS_diff.append(xy_shp)\n",
    "    crop_diff.append(crop_len-shp_len)\n",
    "    del db\n",
    "    del ds\n",
    "    del db_crop\n",
    "    "
   ]
  },
  {
   "cell_type": "code",
   "execution_count": 47,
   "metadata": {
    "collapsed": false
   },
   "outputs": [
    {
     "data": {
      "text/plain": [
       "[0,\n",
       " 0,\n",
       " 0,\n",
       " 0,\n",
       " 0,\n",
       " 0,\n",
       " 0,\n",
       " 0,\n",
       " 0,\n",
       " 0,\n",
       " 0,\n",
       " 0,\n",
       " 0,\n",
       " 0,\n",
       " 0,\n",
       " 0,\n",
       " 0,\n",
       " 0,\n",
       " 0,\n",
       " 0,\n",
       " 0,\n",
       " 0,\n",
       " 0,\n",
       " 0,\n",
       " 0,\n",
       " 0,\n",
       " 0,\n",
       " 0,\n",
       " 0,\n",
       " 0,\n",
       " 0,\n",
       " 0,\n",
       " 0,\n",
       " 0,\n",
       " 0,\n",
       " 0,\n",
       " 0,\n",
       " 0,\n",
       " 0,\n",
       " 0,\n",
       " 0,\n",
       " 0,\n",
       " 0]"
      ]
     },
     "execution_count": 47,
     "metadata": {},
     "output_type": "execute_result"
    }
   ],
   "source": [
    "GIS_diff"
   ]
  },
  {
   "cell_type": "code",
   "execution_count": 48,
   "metadata": {
    "collapsed": false
   },
   "outputs": [
    {
     "data": {
      "text/plain": [
       "[546,\n",
       " 0,\n",
       " 0,\n",
       " 2067,\n",
       " 0,\n",
       " 612,\n",
       " 6798,\n",
       " 680,\n",
       " 1037,\n",
       " 0,\n",
       " 128,\n",
       " 57,\n",
       " 0,\n",
       " 0,\n",
       " 0,\n",
       " 1000,\n",
       " 1837,\n",
       " 4684,\n",
       " 2045,\n",
       " 2030,\n",
       " 147,\n",
       " 439,\n",
       " 0,\n",
       " 0,\n",
       " 0,\n",
       " 79,\n",
       " 1389,\n",
       " 0,\n",
       " 2184,\n",
       " 2592,\n",
       " 288,\n",
       " 0,\n",
       " 703,\n",
       " 74,\n",
       " 443,\n",
       " 1687,\n",
       " 0,\n",
       " 1342,\n",
       " 0,\n",
       " 4532,\n",
       " 3363,\n",
       " 0,\n",
       " 591]"
      ]
     },
     "execution_count": 48,
     "metadata": {},
     "output_type": "execute_result"
    }
   ],
   "source": [
    "crop_diff"
   ]
  },
  {
   "cell_type": "code",
   "execution_count": 49,
   "metadata": {
    "collapsed": false
   },
   "outputs": [
    {
     "data": {
      "text/plain": [
       "'cropped_state_55.csv'"
      ]
     },
     "execution_count": 49,
     "metadata": {},
     "output_type": "execute_result"
    }
   ],
   "source": [
    "state_crop"
   ]
  },
  {
   "cell_type": "code",
   "execution_count": 36,
   "metadata": {
    "collapsed": true
   },
   "outputs": [],
   "source": [
    "db_crop = pd.read_csv('cropped_state_01.csv')"
   ]
  },
  {
   "cell_type": "code",
   "execution_count": 37,
   "metadata": {
    "collapsed": false
   },
   "outputs": [
    {
     "data": {
      "text/html": [
       "<div>\n",
       "<table border=\"1\" class=\"dataframe\">\n",
       "  <thead>\n",
       "    <tr style=\"text-align: right;\">\n",
       "      <th></th>\n",
       "      <th>GISJOIN</th>\n",
       "      <th>STATE</th>\n",
       "      <th>STATEA</th>\n",
       "      <th>CDA</th>\n",
       "      <th>NH_White</th>\n",
       "      <th>NH_Black</th>\n",
       "      <th>NH_Asian</th>\n",
       "      <th>Hispanic</th>\n",
       "      <th>Other</th>\n",
       "      <th>Total</th>\n",
       "    </tr>\n",
       "  </thead>\n",
       "  <tbody>\n",
       "    <tr>\n",
       "      <th>0</th>\n",
       "      <td>G01000100201001000</td>\n",
       "      <td>Alabama</td>\n",
       "      <td>1</td>\n",
       "      <td>2</td>\n",
       "      <td>55</td>\n",
       "      <td>4</td>\n",
       "      <td>1</td>\n",
       "      <td>0</td>\n",
       "      <td>1</td>\n",
       "      <td>61</td>\n",
       "    </tr>\n",
       "    <tr>\n",
       "      <th>1</th>\n",
       "      <td>G01000100201001001</td>\n",
       "      <td>Alabama</td>\n",
       "      <td>1</td>\n",
       "      <td>2</td>\n",
       "      <td>0</td>\n",
       "      <td>0</td>\n",
       "      <td>0</td>\n",
       "      <td>0</td>\n",
       "      <td>0</td>\n",
       "      <td>0</td>\n",
       "    </tr>\n",
       "    <tr>\n",
       "      <th>2</th>\n",
       "      <td>G01000100201001002</td>\n",
       "      <td>Alabama</td>\n",
       "      <td>1</td>\n",
       "      <td>2</td>\n",
       "      <td>0</td>\n",
       "      <td>0</td>\n",
       "      <td>0</td>\n",
       "      <td>0</td>\n",
       "      <td>0</td>\n",
       "      <td>0</td>\n",
       "    </tr>\n",
       "    <tr>\n",
       "      <th>3</th>\n",
       "      <td>G01000100201001003</td>\n",
       "      <td>Alabama</td>\n",
       "      <td>1</td>\n",
       "      <td>2</td>\n",
       "      <td>66</td>\n",
       "      <td>4</td>\n",
       "      <td>0</td>\n",
       "      <td>4</td>\n",
       "      <td>1</td>\n",
       "      <td>75</td>\n",
       "    </tr>\n",
       "    <tr>\n",
       "      <th>4</th>\n",
       "      <td>G01000100201001004</td>\n",
       "      <td>Alabama</td>\n",
       "      <td>1</td>\n",
       "      <td>2</td>\n",
       "      <td>0</td>\n",
       "      <td>0</td>\n",
       "      <td>0</td>\n",
       "      <td>0</td>\n",
       "      <td>0</td>\n",
       "      <td>0</td>\n",
       "    </tr>\n",
       "  </tbody>\n",
       "</table>\n",
       "</div>"
      ],
      "text/plain": [
       "              GISJOIN    STATE  STATEA  CDA  NH_White  NH_Black  NH_Asian  \\\n",
       "0  G01000100201001000  Alabama       1    2        55         4         1   \n",
       "1  G01000100201001001  Alabama       1    2         0         0         0   \n",
       "2  G01000100201001002  Alabama       1    2         0         0         0   \n",
       "3  G01000100201001003  Alabama       1    2        66         4         0   \n",
       "4  G01000100201001004  Alabama       1    2         0         0         0   \n",
       "\n",
       "   Hispanic  Other  Total  \n",
       "0         0      1     61  \n",
       "1         0      0      0  \n",
       "2         0      0      0  \n",
       "3         4      1     75  \n",
       "4         0      0      0  "
      ]
     },
     "execution_count": 37,
     "metadata": {},
     "output_type": "execute_result"
    }
   ],
   "source": [
    "db_crop.head()"
   ]
  },
  {
   "cell_type": "code",
   "execution_count": 38,
   "metadata": {
    "collapsed": false
   },
   "outputs": [
    {
     "data": {
      "text/plain": [
       "GISJOIN     116827\n",
       "STATE       116827\n",
       "STATEA      116827\n",
       "CDA         116827\n",
       "NH_White    116827\n",
       "NH_Black    116827\n",
       "NH_Asian    116827\n",
       "Hispanic    116827\n",
       "Other       116827\n",
       "Total       116827\n",
       "dtype: int64"
      ]
     },
     "execution_count": 38,
     "metadata": {},
     "output_type": "execute_result"
    }
   ],
   "source": [
    "db_crop.loc[db_crop['Total']==0].count()"
   ]
  },
  {
   "cell_type": "code",
   "execution_count": 39,
   "metadata": {
    "collapsed": true
   },
   "outputs": [],
   "source": [
    "db = pd.read_csv('/Users/frankanayet/Desktop/Maps/x_y_state_1_NAD83_FULL.csv')"
   ]
  },
  {
   "cell_type": "code",
   "execution_count": 40,
   "metadata": {
    "collapsed": false
   },
   "outputs": [
    {
     "data": {
      "text/plain": [
       "135439"
      ]
     },
     "execution_count": 40,
     "metadata": {},
     "output_type": "execute_result"
    }
   ],
   "source": [
    "len(db.GISJOIN.unique())"
   ]
  },
  {
   "cell_type": "code",
   "execution_count": 41,
   "metadata": {
    "collapsed": false
   },
   "outputs": [
    {
     "data": {
      "text/plain": [
       "252266"
      ]
     },
     "execution_count": 41,
     "metadata": {},
     "output_type": "execute_result"
    }
   ],
   "source": [
    "len(db_crop.GISJOIN.unique())"
   ]
  },
  {
   "cell_type": "code",
   "execution_count": 42,
   "metadata": {
    "collapsed": false
   },
   "outputs": [
    {
     "data": {
      "text/plain": [
       "116827"
      ]
     },
     "execution_count": 42,
     "metadata": {},
     "output_type": "execute_result"
    }
   ],
   "source": [
    "len(db_crop.GISJOIN.unique()) - len(db.GISJOIN.unique())"
   ]
  },
  {
   "cell_type": "code",
   "execution_count": 43,
   "metadata": {
    "collapsed": true
   },
   "outputs": [],
   "source": [
    "del db\n",
    "del db_crop"
   ]
  },
  {
   "cell_type": "markdown",
   "metadata": {},
   "source": [
    "1. Merge clustered and x_y\n",
    "2. Make database with only unique GIS codes (no repeats)\n",
    "3. Merge x_y and xx_y (adding only new GIS codes)\n",
    "4. Assign Labels to new GIS codes"
   ]
  },
  {
   "cell_type": "code",
   "execution_count": 44,
   "metadata": {
    "collapsed": true
   },
   "outputs": [],
   "source": [
    "clus = pd.read_csv('Clustered_1.csv')"
   ]
  },
  {
   "cell_type": "code",
   "execution_count": 45,
   "metadata": {
    "collapsed": false
   },
   "outputs": [],
   "source": [
    "xy = pd.read_csv('x_y_state_1_NAD83_FULL.csv')"
   ]
  },
  {
   "cell_type": "code",
   "execution_count": 46,
   "metadata": {
    "collapsed": false
   },
   "outputs": [
    {
     "data": {
      "text/html": [
       "<div>\n",
       "<table border=\"1\" class=\"dataframe\">\n",
       "  <thead>\n",
       "    <tr style=\"text-align: right;\">\n",
       "      <th></th>\n",
       "      <th>Unnamed: 0</th>\n",
       "      <th>mx</th>\n",
       "      <th>my</th>\n",
       "      <th>ConDis</th>\n",
       "      <th>Labels</th>\n",
       "    </tr>\n",
       "  </thead>\n",
       "  <tbody>\n",
       "    <tr>\n",
       "      <th>0</th>\n",
       "      <td>0</td>\n",
       "      <td>823716.015433</td>\n",
       "      <td>-835647.717312</td>\n",
       "      <td>1</td>\n",
       "      <td>3</td>\n",
       "    </tr>\n",
       "    <tr>\n",
       "      <th>1</th>\n",
       "      <td>1</td>\n",
       "      <td>822875.722766</td>\n",
       "      <td>-835862.318793</td>\n",
       "      <td>1</td>\n",
       "      <td>3</td>\n",
       "    </tr>\n",
       "    <tr>\n",
       "      <th>2</th>\n",
       "      <td>2</td>\n",
       "      <td>822885.535964</td>\n",
       "      <td>-835477.182424</td>\n",
       "      <td>1</td>\n",
       "      <td>3</td>\n",
       "    </tr>\n",
       "    <tr>\n",
       "      <th>3</th>\n",
       "      <td>3</td>\n",
       "      <td>823554.648886</td>\n",
       "      <td>-836866.628923</td>\n",
       "      <td>1</td>\n",
       "      <td>3</td>\n",
       "    </tr>\n",
       "    <tr>\n",
       "      <th>4</th>\n",
       "      <td>4</td>\n",
       "      <td>823323.757644</td>\n",
       "      <td>-834970.681825</td>\n",
       "      <td>1</td>\n",
       "      <td>3</td>\n",
       "    </tr>\n",
       "  </tbody>\n",
       "</table>\n",
       "</div>"
      ],
      "text/plain": [
       "   Unnamed: 0             mx             my  ConDis  Labels\n",
       "0           0  823716.015433 -835647.717312       1       3\n",
       "1           1  822875.722766 -835862.318793       1       3\n",
       "2           2  822885.535964 -835477.182424       1       3\n",
       "3           3  823554.648886 -836866.628923       1       3\n",
       "4           4  823323.757644 -834970.681825       1       3"
      ]
     },
     "execution_count": 46,
     "metadata": {},
     "output_type": "execute_result"
    }
   ],
   "source": [
    "clus.head()"
   ]
  },
  {
   "cell_type": "code",
   "execution_count": 47,
   "metadata": {
    "collapsed": false
   },
   "outputs": [
    {
     "data": {
      "text/html": [
       "<div>\n",
       "<table border=\"1\" class=\"dataframe\">\n",
       "  <thead>\n",
       "    <tr style=\"text-align: right;\">\n",
       "      <th></th>\n",
       "      <th>GISJOIN</th>\n",
       "      <th>State</th>\n",
       "      <th>ConDis</th>\n",
       "      <th>mx</th>\n",
       "      <th>my</th>\n",
       "    </tr>\n",
       "  </thead>\n",
       "  <tbody>\n",
       "    <tr>\n",
       "      <th>0</th>\n",
       "      <td>G01000100211002002</td>\n",
       "      <td>1</td>\n",
       "      <td>2</td>\n",
       "      <td>823716.015433</td>\n",
       "      <td>-835647.717312</td>\n",
       "    </tr>\n",
       "    <tr>\n",
       "      <th>1</th>\n",
       "      <td>G01000100211002002</td>\n",
       "      <td>1</td>\n",
       "      <td>2</td>\n",
       "      <td>822875.722766</td>\n",
       "      <td>-835862.318793</td>\n",
       "    </tr>\n",
       "    <tr>\n",
       "      <th>2</th>\n",
       "      <td>G01000100211002002</td>\n",
       "      <td>1</td>\n",
       "      <td>2</td>\n",
       "      <td>822885.535964</td>\n",
       "      <td>-835477.182424</td>\n",
       "    </tr>\n",
       "    <tr>\n",
       "      <th>3</th>\n",
       "      <td>G01000100211002002</td>\n",
       "      <td>1</td>\n",
       "      <td>2</td>\n",
       "      <td>823554.648886</td>\n",
       "      <td>-836866.628923</td>\n",
       "    </tr>\n",
       "    <tr>\n",
       "      <th>4</th>\n",
       "      <td>G01000100211002002</td>\n",
       "      <td>1</td>\n",
       "      <td>2</td>\n",
       "      <td>823323.757644</td>\n",
       "      <td>-834970.681825</td>\n",
       "    </tr>\n",
       "  </tbody>\n",
       "</table>\n",
       "</div>"
      ],
      "text/plain": [
       "              GISJOIN  State  ConDis             mx             my\n",
       "0  G01000100211002002      1       2  823716.015433 -835647.717312\n",
       "1  G01000100211002002      1       2  822875.722766 -835862.318793\n",
       "2  G01000100211002002      1       2  822885.535964 -835477.182424\n",
       "3  G01000100211002002      1       2  823554.648886 -836866.628923\n",
       "4  G01000100211002002      1       2  823323.757644 -834970.681825"
      ]
     },
     "execution_count": 47,
     "metadata": {},
     "output_type": "execute_result"
    }
   ],
   "source": [
    "xy.head()"
   ]
  },
  {
   "cell_type": "code",
   "execution_count": 48,
   "metadata": {
    "collapsed": true
   },
   "outputs": [],
   "source": [
    "test = pd.concat([xy,clus], axis=1)"
   ]
  },
  {
   "cell_type": "code",
   "execution_count": 49,
   "metadata": {
    "collapsed": false
   },
   "outputs": [
    {
     "data": {
      "text/html": [
       "<div>\n",
       "<table border=\"1\" class=\"dataframe\">\n",
       "  <thead>\n",
       "    <tr style=\"text-align: right;\">\n",
       "      <th></th>\n",
       "      <th>GISJOIN</th>\n",
       "      <th>State</th>\n",
       "      <th>ConDis</th>\n",
       "      <th>mx</th>\n",
       "      <th>my</th>\n",
       "      <th>Unnamed: 0</th>\n",
       "      <th>mx</th>\n",
       "      <th>my</th>\n",
       "      <th>ConDis</th>\n",
       "      <th>Labels</th>\n",
       "    </tr>\n",
       "  </thead>\n",
       "  <tbody>\n",
       "    <tr>\n",
       "      <th>0</th>\n",
       "      <td>G01000100211002002</td>\n",
       "      <td>1</td>\n",
       "      <td>2</td>\n",
       "      <td>823716.015433</td>\n",
       "      <td>-835647.717312</td>\n",
       "      <td>0</td>\n",
       "      <td>823716.015433</td>\n",
       "      <td>-835647.717312</td>\n",
       "      <td>1</td>\n",
       "      <td>3</td>\n",
       "    </tr>\n",
       "    <tr>\n",
       "      <th>1</th>\n",
       "      <td>G01000100211002002</td>\n",
       "      <td>1</td>\n",
       "      <td>2</td>\n",
       "      <td>822875.722766</td>\n",
       "      <td>-835862.318793</td>\n",
       "      <td>1</td>\n",
       "      <td>822875.722766</td>\n",
       "      <td>-835862.318793</td>\n",
       "      <td>1</td>\n",
       "      <td>3</td>\n",
       "    </tr>\n",
       "    <tr>\n",
       "      <th>2</th>\n",
       "      <td>G01000100211002002</td>\n",
       "      <td>1</td>\n",
       "      <td>2</td>\n",
       "      <td>822885.535964</td>\n",
       "      <td>-835477.182424</td>\n",
       "      <td>2</td>\n",
       "      <td>822885.535964</td>\n",
       "      <td>-835477.182424</td>\n",
       "      <td>1</td>\n",
       "      <td>3</td>\n",
       "    </tr>\n",
       "    <tr>\n",
       "      <th>3</th>\n",
       "      <td>G01000100211002002</td>\n",
       "      <td>1</td>\n",
       "      <td>2</td>\n",
       "      <td>823554.648886</td>\n",
       "      <td>-836866.628923</td>\n",
       "      <td>3</td>\n",
       "      <td>823554.648886</td>\n",
       "      <td>-836866.628923</td>\n",
       "      <td>1</td>\n",
       "      <td>3</td>\n",
       "    </tr>\n",
       "    <tr>\n",
       "      <th>4</th>\n",
       "      <td>G01000100211002002</td>\n",
       "      <td>1</td>\n",
       "      <td>2</td>\n",
       "      <td>823323.757644</td>\n",
       "      <td>-834970.681825</td>\n",
       "      <td>4</td>\n",
       "      <td>823323.757644</td>\n",
       "      <td>-834970.681825</td>\n",
       "      <td>1</td>\n",
       "      <td>3</td>\n",
       "    </tr>\n",
       "  </tbody>\n",
       "</table>\n",
       "</div>"
      ],
      "text/plain": [
       "              GISJOIN  State  ConDis             mx             my  \\\n",
       "0  G01000100211002002      1       2  823716.015433 -835647.717312   \n",
       "1  G01000100211002002      1       2  822875.722766 -835862.318793   \n",
       "2  G01000100211002002      1       2  822885.535964 -835477.182424   \n",
       "3  G01000100211002002      1       2  823554.648886 -836866.628923   \n",
       "4  G01000100211002002      1       2  823323.757644 -834970.681825   \n",
       "\n",
       "   Unnamed: 0             mx             my  ConDis  Labels  \n",
       "0           0  823716.015433 -835647.717312       1       3  \n",
       "1           1  822875.722766 -835862.318793       1       3  \n",
       "2           2  822885.535964 -835477.182424       1       3  \n",
       "3           3  823554.648886 -836866.628923       1       3  \n",
       "4           4  823323.757644 -834970.681825       1       3  "
      ]
     },
     "execution_count": 49,
     "metadata": {},
     "output_type": "execute_result"
    }
   ],
   "source": [
    "test.head()"
   ]
  },
  {
   "cell_type": "code",
   "execution_count": 50,
   "metadata": {
    "collapsed": false
   },
   "outputs": [
    {
     "data": {
      "text/plain": [
       "Index([u'GISJOIN', u'State', u'ConDis', u'mx', u'my', u'Unnamed: 0', u'mx',\n",
       "       u'my', u'ConDis', u'Labels'],\n",
       "      dtype='object')"
      ]
     },
     "execution_count": 50,
     "metadata": {},
     "output_type": "execute_result"
    }
   ],
   "source": [
    "test.keys()"
   ]
  },
  {
   "cell_type": "markdown",
   "metadata": {},
   "source": [
    "# STEP 1"
   ]
  },
  {
   "cell_type": "code",
   "execution_count": 51,
   "metadata": {
    "collapsed": false
   },
   "outputs": [],
   "source": [
    "test_M = pd.merge(xy,clus[['ConDis','Labels']],how='outer',left_index=True,right_index=True,suffixes=('_xy','_clus'))"
   ]
  },
  {
   "cell_type": "code",
   "execution_count": 52,
   "metadata": {
    "collapsed": false
   },
   "outputs": [
    {
     "data": {
      "text/html": [
       "<div>\n",
       "<table border=\"1\" class=\"dataframe\">\n",
       "  <thead>\n",
       "    <tr style=\"text-align: right;\">\n",
       "      <th></th>\n",
       "      <th>GISJOIN</th>\n",
       "      <th>State</th>\n",
       "      <th>ConDis_xy</th>\n",
       "      <th>mx</th>\n",
       "      <th>my</th>\n",
       "      <th>ConDis_clus</th>\n",
       "      <th>Labels</th>\n",
       "    </tr>\n",
       "  </thead>\n",
       "  <tbody>\n",
       "    <tr>\n",
       "      <th>0</th>\n",
       "      <td>G01000100211002002</td>\n",
       "      <td>1</td>\n",
       "      <td>2</td>\n",
       "      <td>823716.015433</td>\n",
       "      <td>-835647.717312</td>\n",
       "      <td>1</td>\n",
       "      <td>3</td>\n",
       "    </tr>\n",
       "    <tr>\n",
       "      <th>1</th>\n",
       "      <td>G01000100211002002</td>\n",
       "      <td>1</td>\n",
       "      <td>2</td>\n",
       "      <td>822875.722766</td>\n",
       "      <td>-835862.318793</td>\n",
       "      <td>1</td>\n",
       "      <td>3</td>\n",
       "    </tr>\n",
       "    <tr>\n",
       "      <th>2</th>\n",
       "      <td>G01000100211002002</td>\n",
       "      <td>1</td>\n",
       "      <td>2</td>\n",
       "      <td>822885.535964</td>\n",
       "      <td>-835477.182424</td>\n",
       "      <td>1</td>\n",
       "      <td>3</td>\n",
       "    </tr>\n",
       "    <tr>\n",
       "      <th>3</th>\n",
       "      <td>G01000100211002002</td>\n",
       "      <td>1</td>\n",
       "      <td>2</td>\n",
       "      <td>823554.648886</td>\n",
       "      <td>-836866.628923</td>\n",
       "      <td>1</td>\n",
       "      <td>3</td>\n",
       "    </tr>\n",
       "    <tr>\n",
       "      <th>4</th>\n",
       "      <td>G01000100211002002</td>\n",
       "      <td>1</td>\n",
       "      <td>2</td>\n",
       "      <td>823323.757644</td>\n",
       "      <td>-834970.681825</td>\n",
       "      <td>1</td>\n",
       "      <td>3</td>\n",
       "    </tr>\n",
       "  </tbody>\n",
       "</table>\n",
       "</div>"
      ],
      "text/plain": [
       "              GISJOIN  State  ConDis_xy             mx             my  \\\n",
       "0  G01000100211002002      1          2  823716.015433 -835647.717312   \n",
       "1  G01000100211002002      1          2  822875.722766 -835862.318793   \n",
       "2  G01000100211002002      1          2  822885.535964 -835477.182424   \n",
       "3  G01000100211002002      1          2  823554.648886 -836866.628923   \n",
       "4  G01000100211002002      1          2  823323.757644 -834970.681825   \n",
       "\n",
       "   ConDis_clus  Labels  \n",
       "0            1       3  \n",
       "1            1       3  \n",
       "2            1       3  \n",
       "3            1       3  \n",
       "4            1       3  "
      ]
     },
     "execution_count": 52,
     "metadata": {},
     "output_type": "execute_result"
    }
   ],
   "source": [
    "test_M.head()"
   ]
  },
  {
   "cell_type": "code",
   "execution_count": 53,
   "metadata": {
    "collapsed": false
   },
   "outputs": [
    {
     "data": {
      "text/plain": [
       "array([1])"
      ]
     },
     "execution_count": 53,
     "metadata": {},
     "output_type": "execute_result"
    }
   ],
   "source": [
    "(test_M.ConDis_xy - test_M.ConDis_clus).unique()"
   ]
  },
  {
   "cell_type": "markdown",
   "metadata": {},
   "source": [
    "# STEP 2 & 3"
   ]
  },
  {
   "cell_type": "code",
   "execution_count": 54,
   "metadata": {
    "collapsed": true
   },
   "outputs": [],
   "source": [
    "xxy = pd.read_csv('xx_y_state_1_NAD83_FULL.csv')"
   ]
  },
  {
   "cell_type": "markdown",
   "metadata": {},
   "source": [
    "Can i group first???"
   ]
  },
  {
   "cell_type": "code",
   "execution_count": 55,
   "metadata": {
    "collapsed": false
   },
   "outputs": [],
   "source": [
    "test_M = test_M.rename(columns={'ConDis_xy':'ConDis'})"
   ]
  },
  {
   "cell_type": "code",
   "execution_count": 56,
   "metadata": {
    "collapsed": false
   },
   "outputs": [
    {
     "data": {
      "text/html": [
       "<div>\n",
       "<table border=\"1\" class=\"dataframe\">\n",
       "  <thead>\n",
       "    <tr style=\"text-align: right;\">\n",
       "      <th></th>\n",
       "      <th>GISJOIN</th>\n",
       "      <th>State</th>\n",
       "      <th>ConDis</th>\n",
       "      <th>mx</th>\n",
       "      <th>my</th>\n",
       "      <th>ConDis_clus</th>\n",
       "      <th>Labels</th>\n",
       "    </tr>\n",
       "  </thead>\n",
       "  <tbody>\n",
       "    <tr>\n",
       "      <th>0</th>\n",
       "      <td>G01000100211002002</td>\n",
       "      <td>1</td>\n",
       "      <td>2</td>\n",
       "      <td>823716.015433</td>\n",
       "      <td>-835647.717312</td>\n",
       "      <td>1</td>\n",
       "      <td>3</td>\n",
       "    </tr>\n",
       "    <tr>\n",
       "      <th>1</th>\n",
       "      <td>G01000100211002002</td>\n",
       "      <td>1</td>\n",
       "      <td>2</td>\n",
       "      <td>822875.722766</td>\n",
       "      <td>-835862.318793</td>\n",
       "      <td>1</td>\n",
       "      <td>3</td>\n",
       "    </tr>\n",
       "    <tr>\n",
       "      <th>2</th>\n",
       "      <td>G01000100211002002</td>\n",
       "      <td>1</td>\n",
       "      <td>2</td>\n",
       "      <td>822885.535964</td>\n",
       "      <td>-835477.182424</td>\n",
       "      <td>1</td>\n",
       "      <td>3</td>\n",
       "    </tr>\n",
       "    <tr>\n",
       "      <th>3</th>\n",
       "      <td>G01000100211002002</td>\n",
       "      <td>1</td>\n",
       "      <td>2</td>\n",
       "      <td>823554.648886</td>\n",
       "      <td>-836866.628923</td>\n",
       "      <td>1</td>\n",
       "      <td>3</td>\n",
       "    </tr>\n",
       "    <tr>\n",
       "      <th>4</th>\n",
       "      <td>G01000100211002002</td>\n",
       "      <td>1</td>\n",
       "      <td>2</td>\n",
       "      <td>823323.757644</td>\n",
       "      <td>-834970.681825</td>\n",
       "      <td>1</td>\n",
       "      <td>3</td>\n",
       "    </tr>\n",
       "  </tbody>\n",
       "</table>\n",
       "</div>"
      ],
      "text/plain": [
       "              GISJOIN  State  ConDis             mx             my  \\\n",
       "0  G01000100211002002      1       2  823716.015433 -835647.717312   \n",
       "1  G01000100211002002      1       2  822875.722766 -835862.318793   \n",
       "2  G01000100211002002      1       2  822885.535964 -835477.182424   \n",
       "3  G01000100211002002      1       2  823554.648886 -836866.628923   \n",
       "4  G01000100211002002      1       2  823323.757644 -834970.681825   \n",
       "\n",
       "   ConDis_clus  Labels  \n",
       "0            1       3  \n",
       "1            1       3  \n",
       "2            1       3  \n",
       "3            1       3  \n",
       "4            1       3  "
      ]
     },
     "execution_count": 56,
     "metadata": {},
     "output_type": "execute_result"
    }
   ],
   "source": [
    "test_M.head()"
   ]
  },
  {
   "cell_type": "markdown",
   "metadata": {},
   "source": [
    "Instead of doinf this long merge that takes a long time divide in two steps to groups one with mean for mx and my, one for the rest with mode and finally merge two tables together."
   ]
  },
  {
   "cell_type": "code",
   "execution_count": 63,
   "metadata": {
    "collapsed": true
   },
   "outputs": [],
   "source": [
    "group_mx = test_M[['GISJOIN','mx','my']].groupby('GISJOIN').mean()"
   ]
  },
  {
   "cell_type": "code",
   "execution_count": 58,
   "metadata": {
    "collapsed": true
   },
   "outputs": [],
   "source": [
    "group_labels = test_M[['GISJOIN','State','ConDis','ConDis_clus'\n",
    "                       ,'Labels']].groupby('GISJOIN').agg(lambda x:x.value_counts().index[0])"
   ]
  },
  {
   "cell_type": "code",
   "execution_count": 67,
   "metadata": {
    "collapsed": false
   },
   "outputs": [],
   "source": [
    "test_grouped2 = pd.concat([group_mx, group_labels], axis=1)"
   ]
  },
  {
   "cell_type": "code",
   "execution_count": 68,
   "metadata": {
    "collapsed": false
   },
   "outputs": [
    {
     "data": {
      "text/html": [
       "<div>\n",
       "<table border=\"1\" class=\"dataframe\">\n",
       "  <thead>\n",
       "    <tr style=\"text-align: right;\">\n",
       "      <th></th>\n",
       "      <th>mx</th>\n",
       "      <th>my</th>\n",
       "      <th>State</th>\n",
       "      <th>ConDis</th>\n",
       "      <th>ConDis_clus</th>\n",
       "      <th>Labels</th>\n",
       "    </tr>\n",
       "    <tr>\n",
       "      <th>GISJOIN</th>\n",
       "      <th></th>\n",
       "      <th></th>\n",
       "      <th></th>\n",
       "      <th></th>\n",
       "      <th></th>\n",
       "      <th></th>\n",
       "    </tr>\n",
       "  </thead>\n",
       "  <tbody>\n",
       "    <tr>\n",
       "      <th>G01000100201001000</th>\n",
       "      <td>852302.864369</td>\n",
       "      <td>-839886.634163</td>\n",
       "      <td>1</td>\n",
       "      <td>2</td>\n",
       "      <td>1</td>\n",
       "      <td>3</td>\n",
       "    </tr>\n",
       "    <tr>\n",
       "      <th>G01000100201001003</th>\n",
       "      <td>851692.013686</td>\n",
       "      <td>-840059.221633</td>\n",
       "      <td>1</td>\n",
       "      <td>2</td>\n",
       "      <td>1</td>\n",
       "      <td>3</td>\n",
       "    </tr>\n",
       "    <tr>\n",
       "      <th>G01000100201001005</th>\n",
       "      <td>851722.960376</td>\n",
       "      <td>-839950.956276</td>\n",
       "      <td>1</td>\n",
       "      <td>2</td>\n",
       "      <td>1</td>\n",
       "      <td>3</td>\n",
       "    </tr>\n",
       "    <tr>\n",
       "      <th>G01000100201001007</th>\n",
       "      <td>850601.906345</td>\n",
       "      <td>-839909.356047</td>\n",
       "      <td>1</td>\n",
       "      <td>2</td>\n",
       "      <td>1</td>\n",
       "      <td>3</td>\n",
       "    </tr>\n",
       "    <tr>\n",
       "      <th>G01000100201001009</th>\n",
       "      <td>850112.761817</td>\n",
       "      <td>-839274.668730</td>\n",
       "      <td>1</td>\n",
       "      <td>2</td>\n",
       "      <td>1</td>\n",
       "      <td>3</td>\n",
       "    </tr>\n",
       "  </tbody>\n",
       "</table>\n",
       "</div>"
      ],
      "text/plain": [
       "                               mx             my  State  ConDis  ConDis_clus  \\\n",
       "GISJOIN                                                                        \n",
       "G01000100201001000  852302.864369 -839886.634163      1       2            1   \n",
       "G01000100201001003  851692.013686 -840059.221633      1       2            1   \n",
       "G01000100201001005  851722.960376 -839950.956276      1       2            1   \n",
       "G01000100201001007  850601.906345 -839909.356047      1       2            1   \n",
       "G01000100201001009  850112.761817 -839274.668730      1       2            1   \n",
       "\n",
       "                    Labels  \n",
       "GISJOIN                     \n",
       "G01000100201001000       3  \n",
       "G01000100201001003       3  \n",
       "G01000100201001005       3  \n",
       "G01000100201001007       3  \n",
       "G01000100201001009       3  "
      ]
     },
     "execution_count": 68,
     "metadata": {},
     "output_type": "execute_result"
    }
   ],
   "source": [
    "test_grouped2.head()"
   ]
  },
  {
   "cell_type": "code",
   "execution_count": 72,
   "metadata": {
    "collapsed": false
   },
   "outputs": [
    {
     "data": {
      "text/plain": [
       "array([3, 6, 0, 1, 5, 2, 4])"
      ]
     },
     "execution_count": 72,
     "metadata": {},
     "output_type": "execute_result"
    }
   ],
   "source": [
    "test_grouped2.Labels.unique()"
   ]
  },
  {
   "cell_type": "code",
   "execution_count": 98,
   "metadata": {
    "collapsed": false
   },
   "outputs": [],
   "source": [
    "#test_grouped = test_M.groupby('GISJOIN').agg(lambda x:x.value_counts().index[0])"
   ]
  },
  {
   "cell_type": "code",
   "execution_count": 99,
   "metadata": {
    "collapsed": false
   },
   "outputs": [
    {
     "data": {
      "text/html": [
       "<div>\n",
       "<table border=\"1\" class=\"dataframe\">\n",
       "  <thead>\n",
       "    <tr style=\"text-align: right;\">\n",
       "      <th></th>\n",
       "      <th>State</th>\n",
       "      <th>ConDis</th>\n",
       "      <th>mx</th>\n",
       "      <th>my</th>\n",
       "      <th>ConDis_clus</th>\n",
       "      <th>Labels</th>\n",
       "    </tr>\n",
       "    <tr>\n",
       "      <th>GISJOIN</th>\n",
       "      <th></th>\n",
       "      <th></th>\n",
       "      <th></th>\n",
       "      <th></th>\n",
       "      <th></th>\n",
       "      <th></th>\n",
       "    </tr>\n",
       "  </thead>\n",
       "  <tbody>\n",
       "    <tr>\n",
       "      <th>G01000100201001000</th>\n",
       "      <td>1</td>\n",
       "      <td>2</td>\n",
       "      <td>852610.187133</td>\n",
       "      <td>-839657.563373</td>\n",
       "      <td>1</td>\n",
       "      <td>3</td>\n",
       "    </tr>\n",
       "    <tr>\n",
       "      <th>G01000100201001003</th>\n",
       "      <td>1</td>\n",
       "      <td>2</td>\n",
       "      <td>851949.874980</td>\n",
       "      <td>-840250.851796</td>\n",
       "      <td>1</td>\n",
       "      <td>3</td>\n",
       "    </tr>\n",
       "    <tr>\n",
       "      <th>G01000100201001005</th>\n",
       "      <td>1</td>\n",
       "      <td>2</td>\n",
       "      <td>851722.960376</td>\n",
       "      <td>-839950.956276</td>\n",
       "      <td>1</td>\n",
       "      <td>3</td>\n",
       "    </tr>\n",
       "    <tr>\n",
       "      <th>G01000100201001007</th>\n",
       "      <td>1</td>\n",
       "      <td>2</td>\n",
       "      <td>850706.293495</td>\n",
       "      <td>-840224.758491</td>\n",
       "      <td>1</td>\n",
       "      <td>3</td>\n",
       "    </tr>\n",
       "    <tr>\n",
       "      <th>G01000100201001009</th>\n",
       "      <td>1</td>\n",
       "      <td>2</td>\n",
       "      <td>850112.761817</td>\n",
       "      <td>-839274.668730</td>\n",
       "      <td>1</td>\n",
       "      <td>3</td>\n",
       "    </tr>\n",
       "  </tbody>\n",
       "</table>\n",
       "</div>"
      ],
      "text/plain": [
       "                    State  ConDis             mx             my  ConDis_clus  \\\n",
       "GISJOIN                                                                        \n",
       "G01000100201001000      1       2  852610.187133 -839657.563373            1   \n",
       "G01000100201001003      1       2  851949.874980 -840250.851796            1   \n",
       "G01000100201001005      1       2  851722.960376 -839950.956276            1   \n",
       "G01000100201001007      1       2  850706.293495 -840224.758491            1   \n",
       "G01000100201001009      1       2  850112.761817 -839274.668730            1   \n",
       "\n",
       "                    Labels  \n",
       "GISJOIN                     \n",
       "G01000100201001000       3  \n",
       "G01000100201001003       3  \n",
       "G01000100201001005       3  \n",
       "G01000100201001007       3  \n",
       "G01000100201001009       3  "
      ]
     },
     "execution_count": 99,
     "metadata": {},
     "output_type": "execute_result"
    }
   ],
   "source": [
    "#test_grouped.head()"
   ]
  },
  {
   "cell_type": "code",
   "execution_count": 100,
   "metadata": {
    "collapsed": false
   },
   "outputs": [
    {
     "data": {
      "text/plain": [
       "array([3, 6, 0, 1, 5, 2, 4])"
      ]
     },
     "execution_count": 100,
     "metadata": {},
     "output_type": "execute_result"
    }
   ],
   "source": [
    "#test_grouped.Labels.unique()"
   ]
  },
  {
   "cell_type": "code",
   "execution_count": 153,
   "metadata": {
    "collapsed": false
   },
   "outputs": [],
   "source": [
    "#test_grouped.Labels = test_grouped.Labels.round()"
   ]
  },
  {
   "cell_type": "code",
   "execution_count": 101,
   "metadata": {
    "collapsed": false
   },
   "outputs": [
    {
     "data": {
      "text/plain": [
       "array([3, 6, 0, 1, 5, 2, 4])"
      ]
     },
     "execution_count": 101,
     "metadata": {},
     "output_type": "execute_result"
    }
   ],
   "source": [
    "#test_grouped.Labels.unique()"
   ]
  },
  {
   "cell_type": "code",
   "execution_count": 73,
   "metadata": {
    "collapsed": false
   },
   "outputs": [
    {
     "data": {
      "text/plain": [
       "135439"
      ]
     },
     "execution_count": 73,
     "metadata": {},
     "output_type": "execute_result"
    }
   ],
   "source": [
    "len(test_grouped2)"
   ]
  },
  {
   "cell_type": "code",
   "execution_count": 76,
   "metadata": {
    "collapsed": true
   },
   "outputs": [],
   "source": [
    "del group_labels\n",
    "del group_mx"
   ]
  },
  {
   "cell_type": "code",
   "execution_count": 77,
   "metadata": {
    "collapsed": false
   },
   "outputs": [
    {
     "data": {
      "text/html": [
       "<div>\n",
       "<table border=\"1\" class=\"dataframe\">\n",
       "  <thead>\n",
       "    <tr style=\"text-align: right;\">\n",
       "      <th></th>\n",
       "      <th>GISJOIN</th>\n",
       "      <th>State</th>\n",
       "      <th>ConDis</th>\n",
       "      <th>mx</th>\n",
       "      <th>my</th>\n",
       "    </tr>\n",
       "  </thead>\n",
       "  <tbody>\n",
       "    <tr>\n",
       "      <th>0</th>\n",
       "      <td>G01000100211002002</td>\n",
       "      <td>1</td>\n",
       "      <td>2</td>\n",
       "      <td>824217.214937</td>\n",
       "      <td>-835613.626000</td>\n",
       "    </tr>\n",
       "    <tr>\n",
       "      <th>1</th>\n",
       "      <td>G01000100211002002</td>\n",
       "      <td>1</td>\n",
       "      <td>2</td>\n",
       "      <td>822261.722693</td>\n",
       "      <td>-836238.815420</td>\n",
       "    </tr>\n",
       "    <tr>\n",
       "      <th>2</th>\n",
       "      <td>G01000100211002002</td>\n",
       "      <td>1</td>\n",
       "      <td>2</td>\n",
       "      <td>824791.260661</td>\n",
       "      <td>-833888.771854</td>\n",
       "    </tr>\n",
       "    <tr>\n",
       "      <th>3</th>\n",
       "      <td>G01000100211002002</td>\n",
       "      <td>1</td>\n",
       "      <td>2</td>\n",
       "      <td>823367.673138</td>\n",
       "      <td>-835382.793859</td>\n",
       "    </tr>\n",
       "    <tr>\n",
       "      <th>4</th>\n",
       "      <td>G01000100211002002</td>\n",
       "      <td>1</td>\n",
       "      <td>2</td>\n",
       "      <td>822031.870421</td>\n",
       "      <td>-836671.942741</td>\n",
       "    </tr>\n",
       "  </tbody>\n",
       "</table>\n",
       "</div>"
      ],
      "text/plain": [
       "              GISJOIN  State  ConDis             mx             my\n",
       "0  G01000100211002002      1       2  824217.214937 -835613.626000\n",
       "1  G01000100211002002      1       2  822261.722693 -836238.815420\n",
       "2  G01000100211002002      1       2  824791.260661 -833888.771854\n",
       "3  G01000100211002002      1       2  823367.673138 -835382.793859\n",
       "4  G01000100211002002      1       2  822031.870421 -836671.942741"
      ]
     },
     "execution_count": 77,
     "metadata": {},
     "output_type": "execute_result"
    }
   ],
   "source": [
    "xxy.head()"
   ]
  },
  {
   "cell_type": "code",
   "execution_count": 78,
   "metadata": {
    "collapsed": true
   },
   "outputs": [],
   "source": [
    "xxy_grouped = xxy.groupby('GISJOIN').mean()"
   ]
  },
  {
   "cell_type": "code",
   "execution_count": 79,
   "metadata": {
    "collapsed": false
   },
   "outputs": [
    {
     "data": {
      "text/plain": [
       "251720"
      ]
     },
     "execution_count": 79,
     "metadata": {},
     "output_type": "execute_result"
    }
   ],
   "source": [
    "len(xxy_grouped)"
   ]
  },
  {
   "cell_type": "code",
   "execution_count": 80,
   "metadata": {
    "collapsed": false
   },
   "outputs": [
    {
     "data": {
      "text/html": [
       "<div>\n",
       "<table border=\"1\" class=\"dataframe\">\n",
       "  <thead>\n",
       "    <tr style=\"text-align: right;\">\n",
       "      <th></th>\n",
       "      <th>State</th>\n",
       "      <th>ConDis</th>\n",
       "      <th>mx</th>\n",
       "      <th>my</th>\n",
       "    </tr>\n",
       "    <tr>\n",
       "      <th>GISJOIN</th>\n",
       "      <th></th>\n",
       "      <th></th>\n",
       "      <th></th>\n",
       "      <th></th>\n",
       "    </tr>\n",
       "  </thead>\n",
       "  <tbody>\n",
       "    <tr>\n",
       "      <th>G01000100201001000</th>\n",
       "      <td>1</td>\n",
       "      <td>2</td>\n",
       "      <td>852355.434355</td>\n",
       "      <td>-839799.221066</td>\n",
       "    </tr>\n",
       "    <tr>\n",
       "      <th>G01000100201001001</th>\n",
       "      <td>1</td>\n",
       "      <td>2</td>\n",
       "      <td>852625.565825</td>\n",
       "      <td>-840169.063698</td>\n",
       "    </tr>\n",
       "    <tr>\n",
       "      <th>G01000100201001002</th>\n",
       "      <td>1</td>\n",
       "      <td>2</td>\n",
       "      <td>851772.531718</td>\n",
       "      <td>-839803.107972</td>\n",
       "    </tr>\n",
       "    <tr>\n",
       "      <th>G01000100201001003</th>\n",
       "      <td>1</td>\n",
       "      <td>2</td>\n",
       "      <td>851634.733810</td>\n",
       "      <td>-840017.212934</td>\n",
       "    </tr>\n",
       "    <tr>\n",
       "      <th>G01000100201001004</th>\n",
       "      <td>1</td>\n",
       "      <td>2</td>\n",
       "      <td>852574.321524</td>\n",
       "      <td>-840589.038780</td>\n",
       "    </tr>\n",
       "  </tbody>\n",
       "</table>\n",
       "</div>"
      ],
      "text/plain": [
       "                    State  ConDis             mx             my\n",
       "GISJOIN                                                        \n",
       "G01000100201001000      1       2  852355.434355 -839799.221066\n",
       "G01000100201001001      1       2  852625.565825 -840169.063698\n",
       "G01000100201001002      1       2  851772.531718 -839803.107972\n",
       "G01000100201001003      1       2  851634.733810 -840017.212934\n",
       "G01000100201001004      1       2  852574.321524 -840589.038780"
      ]
     },
     "execution_count": 80,
     "metadata": {},
     "output_type": "execute_result"
    }
   ],
   "source": [
    "xxy_grouped.head()"
   ]
  },
  {
   "cell_type": "code",
   "execution_count": 81,
   "metadata": {
    "collapsed": false
   },
   "outputs": [
    {
     "data": {
      "text/plain": [
       "array([2, 1, 6, 4, 3, 7, 5])"
      ]
     },
     "execution_count": 81,
     "metadata": {},
     "output_type": "execute_result"
    }
   ],
   "source": [
    "xxy_grouped.ConDis.unique()"
   ]
  },
  {
   "cell_type": "code",
   "execution_count": 82,
   "metadata": {
    "collapsed": false
   },
   "outputs": [
    {
     "data": {
      "text/plain": [
       "4644297"
      ]
     },
     "execution_count": 82,
     "metadata": {},
     "output_type": "execute_result"
    }
   ],
   "source": [
    "len(xxy) - len(xxy_grouped)"
   ]
  },
  {
   "cell_type": "code",
   "execution_count": 84,
   "metadata": {
    "collapsed": false
   },
   "outputs": [
    {
     "data": {
      "text/plain": [
       "116281"
      ]
     },
     "execution_count": 84,
     "metadata": {},
     "output_type": "execute_result"
    }
   ],
   "source": [
    "len(xxy_grouped) - len(test_grouped2)"
   ]
  },
  {
   "cell_type": "code",
   "execution_count": 86,
   "metadata": {
    "collapsed": false
   },
   "outputs": [],
   "source": [
    "test_new = pd.concat([test_grouped2,xxy_grouped])"
   ]
  },
  {
   "cell_type": "code",
   "execution_count": 87,
   "metadata": {
    "collapsed": false
   },
   "outputs": [
    {
     "data": {
      "text/plain": [
       "387159"
      ]
     },
     "execution_count": 87,
     "metadata": {},
     "output_type": "execute_result"
    }
   ],
   "source": [
    "len(test_new)"
   ]
  },
  {
   "cell_type": "code",
   "execution_count": 88,
   "metadata": {
    "collapsed": false
   },
   "outputs": [
    {
     "data": {
      "text/html": [
       "<div>\n",
       "<table border=\"1\" class=\"dataframe\">\n",
       "  <thead>\n",
       "    <tr style=\"text-align: right;\">\n",
       "      <th></th>\n",
       "      <th>ConDis</th>\n",
       "      <th>ConDis_clus</th>\n",
       "      <th>Labels</th>\n",
       "      <th>State</th>\n",
       "      <th>mx</th>\n",
       "      <th>my</th>\n",
       "    </tr>\n",
       "    <tr>\n",
       "      <th>GISJOIN</th>\n",
       "      <th></th>\n",
       "      <th></th>\n",
       "      <th></th>\n",
       "      <th></th>\n",
       "      <th></th>\n",
       "      <th></th>\n",
       "    </tr>\n",
       "  </thead>\n",
       "  <tbody>\n",
       "    <tr>\n",
       "      <th>G01000100201001000</th>\n",
       "      <td>2</td>\n",
       "      <td>1</td>\n",
       "      <td>3</td>\n",
       "      <td>1</td>\n",
       "      <td>852302.864369</td>\n",
       "      <td>-839886.634163</td>\n",
       "    </tr>\n",
       "    <tr>\n",
       "      <th>G01000100201001003</th>\n",
       "      <td>2</td>\n",
       "      <td>1</td>\n",
       "      <td>3</td>\n",
       "      <td>1</td>\n",
       "      <td>851692.013686</td>\n",
       "      <td>-840059.221633</td>\n",
       "    </tr>\n",
       "    <tr>\n",
       "      <th>G01000100201001005</th>\n",
       "      <td>2</td>\n",
       "      <td>1</td>\n",
       "      <td>3</td>\n",
       "      <td>1</td>\n",
       "      <td>851722.960376</td>\n",
       "      <td>-839950.956276</td>\n",
       "    </tr>\n",
       "    <tr>\n",
       "      <th>G01000100201001007</th>\n",
       "      <td>2</td>\n",
       "      <td>1</td>\n",
       "      <td>3</td>\n",
       "      <td>1</td>\n",
       "      <td>850601.906345</td>\n",
       "      <td>-839909.356047</td>\n",
       "    </tr>\n",
       "    <tr>\n",
       "      <th>G01000100201001009</th>\n",
       "      <td>2</td>\n",
       "      <td>1</td>\n",
       "      <td>3</td>\n",
       "      <td>1</td>\n",
       "      <td>850112.761817</td>\n",
       "      <td>-839274.668730</td>\n",
       "    </tr>\n",
       "  </tbody>\n",
       "</table>\n",
       "</div>"
      ],
      "text/plain": [
       "                    ConDis  ConDis_clus  Labels  State             mx  \\\n",
       "GISJOIN                                                                 \n",
       "G01000100201001000       2            1       3      1  852302.864369   \n",
       "G01000100201001003       2            1       3      1  851692.013686   \n",
       "G01000100201001005       2            1       3      1  851722.960376   \n",
       "G01000100201001007       2            1       3      1  850601.906345   \n",
       "G01000100201001009       2            1       3      1  850112.761817   \n",
       "\n",
       "                               my  \n",
       "GISJOIN                            \n",
       "G01000100201001000 -839886.634163  \n",
       "G01000100201001003 -840059.221633  \n",
       "G01000100201001005 -839950.956276  \n",
       "G01000100201001007 -839909.356047  \n",
       "G01000100201001009 -839274.668730  "
      ]
     },
     "execution_count": 88,
     "metadata": {},
     "output_type": "execute_result"
    }
   ],
   "source": [
    "test_new.head()"
   ]
  },
  {
   "cell_type": "code",
   "execution_count": 89,
   "metadata": {
    "collapsed": false
   },
   "outputs": [
    {
     "data": {
      "text/plain": [
       "251720"
      ]
     },
     "execution_count": 89,
     "metadata": {},
     "output_type": "execute_result"
    }
   ],
   "source": [
    "len(test_new.groupby(level=0).mean())"
   ]
  },
  {
   "cell_type": "code",
   "execution_count": 90,
   "metadata": {
    "collapsed": false
   },
   "outputs": [
    {
     "data": {
      "text/plain": [
       "array([2, 1, 6, 4, 3, 7, 5])"
      ]
     },
     "execution_count": 90,
     "metadata": {},
     "output_type": "execute_result"
    }
   ],
   "source": [
    "test_new.ConDis.unique()"
   ]
  },
  {
   "cell_type": "code",
   "execution_count": 92,
   "metadata": {
    "collapsed": false
   },
   "outputs": [
    {
     "data": {
      "text/plain": [
       "array([  3.,   6.,   0.,   1.,   5.,   2.,   4.,  nan])"
      ]
     },
     "execution_count": 92,
     "metadata": {},
     "output_type": "execute_result"
    }
   ],
   "source": [
    "test_new.Labels.unique()"
   ]
  },
  {
   "cell_type": "code",
   "execution_count": 91,
   "metadata": {
    "collapsed": false
   },
   "outputs": [
    {
     "data": {
      "text/plain": [
       "array([  1.,   0.,   5.,   3.,   2.,   6.,   4.,  nan])"
      ]
     },
     "execution_count": 91,
     "metadata": {},
     "output_type": "execute_result"
    }
   ],
   "source": [
    "test_new.ConDis_clus.unique()"
   ]
  },
  {
   "cell_type": "code",
   "execution_count": 93,
   "metadata": {
    "collapsed": true
   },
   "outputs": [],
   "source": [
    "import numpy as np"
   ]
  },
  {
   "cell_type": "code",
   "execution_count": 98,
   "metadata": {
    "collapsed": false
   },
   "outputs": [
    {
     "data": {
      "text/plain": [
       "array([ nan])"
      ]
     },
     "execution_count": 98,
     "metadata": {},
     "output_type": "execute_result"
    }
   ],
   "source": [
    "test_new.loc[np.isnan(test_new['Labels']), 'ConDis_clus'].unique()"
   ]
  },
  {
   "cell_type": "code",
   "execution_count": 99,
   "metadata": {
    "collapsed": false
   },
   "outputs": [
    {
     "data": {
      "text/plain": [
       "array([ nan])"
      ]
     },
     "execution_count": 99,
     "metadata": {},
     "output_type": "execute_result"
    }
   ],
   "source": [
    "test_new.loc[np.isnan(test_new['ConDis_clus']), 'Labels'].unique()"
   ]
  },
  {
   "cell_type": "code",
   "execution_count": 105,
   "metadata": {
    "collapsed": false
   },
   "outputs": [
    {
     "data": {
      "text/plain": [
       "array([False], dtype=object)"
      ]
     },
     "execution_count": 105,
     "metadata": {},
     "output_type": "execute_result"
    }
   ],
   "source": [
    "np.isnan(test_new.ConDis).unique()"
   ]
  },
  {
   "cell_type": "code",
   "execution_count": 117,
   "metadata": {
    "collapsed": false
   },
   "outputs": [
    {
     "data": {
      "text/plain": [
       "GISJOIN\n",
       "G01000100201001000   NaN\n",
       "G01000100201001001   NaN\n",
       "G01000100201001002   NaN\n",
       "G01000100201001003   NaN\n",
       "G01000100201001004   NaN\n",
       "G01000100201001005   NaN\n",
       "G01000100201001006   NaN\n",
       "G01000100201001007   NaN\n",
       "G01000100201001008   NaN\n",
       "G01000100201001009   NaN\n",
       "G01000100201001010   NaN\n",
       "G01000100201001011   NaN\n",
       "G01000100201001012   NaN\n",
       "G01000100201001013   NaN\n",
       "G01000100201001014   NaN\n",
       "G01000100201001015   NaN\n",
       "G01000100201001016   NaN\n",
       "G01000100201001017   NaN\n",
       "G01000100201001018   NaN\n",
       "G01000100201001019   NaN\n",
       "G01000100201001020   NaN\n",
       "G01000100201001021   NaN\n",
       "G01000100201001022   NaN\n",
       "G01000100201001023   NaN\n",
       "G01000100201001024   NaN\n",
       "G01000100201001025   NaN\n",
       "G01000100201001026   NaN\n",
       "G01000100201001027   NaN\n",
       "G01000100201002000   NaN\n",
       "G01000100201002001   NaN\n",
       "                      ..\n",
       "G01013309659003076   NaN\n",
       "G01013309659003077   NaN\n",
       "G01013309659003078   NaN\n",
       "G01013309659003079   NaN\n",
       "G01013309659003080   NaN\n",
       "G01013309659003081   NaN\n",
       "G01013309659003082   NaN\n",
       "G01013309659003083   NaN\n",
       "G01013309659003084   NaN\n",
       "G01013309659003085   NaN\n",
       "G01013309659003086   NaN\n",
       "G01013309659003087   NaN\n",
       "G01013309659003088   NaN\n",
       "G01013309659003089   NaN\n",
       "G01013309659003090   NaN\n",
       "G01013309659003091   NaN\n",
       "G01013309659003092   NaN\n",
       "G01013309659003093   NaN\n",
       "G01013309659003094   NaN\n",
       "G01013309659003095   NaN\n",
       "G01013309659003096   NaN\n",
       "G01013309659003097   NaN\n",
       "G01013309659003098   NaN\n",
       "G01013309659003099   NaN\n",
       "G01013309659003100   NaN\n",
       "G01013309659003101   NaN\n",
       "G01013309659003102   NaN\n",
       "G01013309659003103   NaN\n",
       "G01013309659003104   NaN\n",
       "G01013309659003105   NaN\n",
       "Name: Labels, dtype: float64"
      ]
     },
     "execution_count": 117,
     "metadata": {},
     "output_type": "execute_result"
    }
   ],
   "source": [
    "test_new.loc[np.isnan(test_new['ConDis_clus']), 'Labels']"
   ]
  },
  {
   "cell_type": "markdown",
   "metadata": {},
   "source": [
    "# Step 4"
   ]
  },
  {
   "cell_type": "code",
   "execution_count": 108,
   "metadata": {
    "collapsed": true
   },
   "outputs": [],
   "source": [
    "centroids = test_new[['Labels','mx','my']].groupby('Labels').mean()"
   ]
  },
  {
   "cell_type": "code",
   "execution_count": 109,
   "metadata": {
    "collapsed": false
   },
   "outputs": [
    {
     "data": {
      "text/html": [
       "<div>\n",
       "<table border=\"1\" class=\"dataframe\">\n",
       "  <thead>\n",
       "    <tr style=\"text-align: right;\">\n",
       "      <th></th>\n",
       "      <th>mx</th>\n",
       "      <th>my</th>\n",
       "    </tr>\n",
       "    <tr>\n",
       "      <th>Labels</th>\n",
       "      <th></th>\n",
       "      <th></th>\n",
       "    </tr>\n",
       "  </thead>\n",
       "  <tbody>\n",
       "    <tr>\n",
       "      <th>0</th>\n",
       "      <td>920497.494211</td>\n",
       "      <td>-909528.325183</td>\n",
       "    </tr>\n",
       "    <tr>\n",
       "      <th>1</th>\n",
       "      <td>809319.630715</td>\n",
       "      <td>-720488.237531</td>\n",
       "    </tr>\n",
       "    <tr>\n",
       "      <th>2</th>\n",
       "      <td>842581.785350</td>\n",
       "      <td>-595203.362274</td>\n",
       "    </tr>\n",
       "    <tr>\n",
       "      <th>3</th>\n",
       "      <td>775751.040133</td>\n",
       "      <td>-813164.945150</td>\n",
       "    </tr>\n",
       "    <tr>\n",
       "      <th>4</th>\n",
       "      <td>745734.048895</td>\n",
       "      <td>-621112.262495</td>\n",
       "    </tr>\n",
       "    <tr>\n",
       "      <th>5</th>\n",
       "      <td>893265.133802</td>\n",
       "      <td>-711245.963453</td>\n",
       "    </tr>\n",
       "    <tr>\n",
       "      <th>6</th>\n",
       "      <td>742698.199456</td>\n",
       "      <td>-1040632.901990</td>\n",
       "    </tr>\n",
       "  </tbody>\n",
       "</table>\n",
       "</div>"
      ],
      "text/plain": [
       "                   mx              my\n",
       "Labels                               \n",
       "0       920497.494211  -909528.325183\n",
       "1       809319.630715  -720488.237531\n",
       "2       842581.785350  -595203.362274\n",
       "3       775751.040133  -813164.945150\n",
       "4       745734.048895  -621112.262495\n",
       "5       893265.133802  -711245.963453\n",
       "6       742698.199456 -1040632.901990"
      ]
     },
     "execution_count": 109,
     "metadata": {},
     "output_type": "execute_result"
    }
   ],
   "source": [
    "centroids"
   ]
  },
  {
   "cell_type": "code",
   "execution_count": 112,
   "metadata": {
    "collapsed": false
   },
   "outputs": [],
   "source": [
    "to_label = test_new.loc[np.isnan(test_new['Labels']), ['mx','my','Labels']]"
   ]
  },
  {
   "cell_type": "code",
   "execution_count": 113,
   "metadata": {
    "collapsed": false
   },
   "outputs": [
    {
     "data": {
      "text/plain": [
       "251720"
      ]
     },
     "execution_count": 113,
     "metadata": {},
     "output_type": "execute_result"
    }
   ],
   "source": [
    "len(to_label)"
   ]
  },
  {
   "cell_type": "code",
   "execution_count": 115,
   "metadata": {
    "collapsed": false
   },
   "outputs": [
    {
     "data": {
      "text/plain": [
       "array([ nan])"
      ]
     },
     "execution_count": 115,
     "metadata": {},
     "output_type": "execute_result"
    }
   ],
   "source": [
    "to_label.Labels.unique()"
   ]
  },
  {
   "cell_type": "code",
   "execution_count": 119,
   "metadata": {
    "collapsed": false
   },
   "outputs": [],
   "source": [
    "from scipy.spatial import distance as dist"
   ]
  },
  {
   "cell_type": "code",
   "execution_count": 120,
   "metadata": {
    "collapsed": false
   },
   "outputs": [],
   "source": [
    "res = dist.cdist(centroids,to_label[['mx','my']])"
   ]
  },
  {
   "cell_type": "code",
   "execution_count": 121,
   "metadata": {
    "collapsed": false
   },
   "outputs": [
    {
     "data": {
      "text/plain": [
       "(7, 251720)"
      ]
     },
     "execution_count": 121,
     "metadata": {},
     "output_type": "execute_result"
    }
   ],
   "source": [
    "res.shape"
   ]
  },
  {
   "cell_type": "code",
   "execution_count": 122,
   "metadata": {
    "collapsed": true
   },
   "outputs": [],
   "source": [
    "to_label['Labels'] = res.argmin(0)"
   ]
  },
  {
   "cell_type": "code",
   "execution_count": 123,
   "metadata": {
    "collapsed": false
   },
   "outputs": [
    {
     "data": {
      "text/html": [
       "<div>\n",
       "<table border=\"1\" class=\"dataframe\">\n",
       "  <thead>\n",
       "    <tr style=\"text-align: right;\">\n",
       "      <th></th>\n",
       "      <th>mx</th>\n",
       "      <th>my</th>\n",
       "      <th>Labels</th>\n",
       "    </tr>\n",
       "    <tr>\n",
       "      <th>GISJOIN</th>\n",
       "      <th></th>\n",
       "      <th></th>\n",
       "      <th></th>\n",
       "    </tr>\n",
       "  </thead>\n",
       "  <tbody>\n",
       "    <tr>\n",
       "      <th>G01000100201001000</th>\n",
       "      <td>852355.434355</td>\n",
       "      <td>-839799.221066</td>\n",
       "      <td>3</td>\n",
       "    </tr>\n",
       "    <tr>\n",
       "      <th>G01000100201001001</th>\n",
       "      <td>852625.565825</td>\n",
       "      <td>-840169.063698</td>\n",
       "      <td>3</td>\n",
       "    </tr>\n",
       "    <tr>\n",
       "      <th>G01000100201001002</th>\n",
       "      <td>851772.531718</td>\n",
       "      <td>-839803.107972</td>\n",
       "      <td>3</td>\n",
       "    </tr>\n",
       "    <tr>\n",
       "      <th>G01000100201001003</th>\n",
       "      <td>851634.733810</td>\n",
       "      <td>-840017.212934</td>\n",
       "      <td>3</td>\n",
       "    </tr>\n",
       "    <tr>\n",
       "      <th>G01000100201001004</th>\n",
       "      <td>852574.321524</td>\n",
       "      <td>-840589.038780</td>\n",
       "      <td>3</td>\n",
       "    </tr>\n",
       "  </tbody>\n",
       "</table>\n",
       "</div>"
      ],
      "text/plain": [
       "                               mx             my  Labels\n",
       "GISJOIN                                                 \n",
       "G01000100201001000  852355.434355 -839799.221066       3\n",
       "G01000100201001001  852625.565825 -840169.063698       3\n",
       "G01000100201001002  851772.531718 -839803.107972       3\n",
       "G01000100201001003  851634.733810 -840017.212934       3\n",
       "G01000100201001004  852574.321524 -840589.038780       3"
      ]
     },
     "execution_count": 123,
     "metadata": {},
     "output_type": "execute_result"
    }
   ],
   "source": [
    "to_label.head()"
   ]
  },
  {
   "cell_type": "code",
   "execution_count": 124,
   "metadata": {
    "collapsed": false
   },
   "outputs": [
    {
     "data": {
      "text/plain": [
       "array([3, 0, 6, 1, 5, 2, 4])"
      ]
     },
     "execution_count": 124,
     "metadata": {},
     "output_type": "execute_result"
    }
   ],
   "source": [
    "to_label.Labels.unique()"
   ]
  },
  {
   "cell_type": "code",
   "execution_count": 125,
   "metadata": {
    "collapsed": true
   },
   "outputs": [],
   "source": [
    "final_db = test_new.copy()"
   ]
  },
  {
   "cell_type": "code",
   "execution_count": 129,
   "metadata": {
    "collapsed": false
   },
   "outputs": [
    {
     "data": {
      "text/html": [
       "<div>\n",
       "<table border=\"1\" class=\"dataframe\">\n",
       "  <thead>\n",
       "    <tr style=\"text-align: right;\">\n",
       "      <th></th>\n",
       "      <th>ConDis</th>\n",
       "      <th>ConDis_clus</th>\n",
       "      <th>Labels</th>\n",
       "      <th>State</th>\n",
       "      <th>mx</th>\n",
       "      <th>my</th>\n",
       "    </tr>\n",
       "    <tr>\n",
       "      <th>GISJOIN</th>\n",
       "      <th></th>\n",
       "      <th></th>\n",
       "      <th></th>\n",
       "      <th></th>\n",
       "      <th></th>\n",
       "      <th></th>\n",
       "    </tr>\n",
       "  </thead>\n",
       "  <tbody>\n",
       "    <tr>\n",
       "      <th>G01000100201001000</th>\n",
       "      <td>2</td>\n",
       "      <td>1</td>\n",
       "      <td>3</td>\n",
       "      <td>1</td>\n",
       "      <td>852302.864369</td>\n",
       "      <td>-839886.634163</td>\n",
       "    </tr>\n",
       "    <tr>\n",
       "      <th>G01000100201001003</th>\n",
       "      <td>2</td>\n",
       "      <td>1</td>\n",
       "      <td>3</td>\n",
       "      <td>1</td>\n",
       "      <td>851692.013686</td>\n",
       "      <td>-840059.221633</td>\n",
       "    </tr>\n",
       "    <tr>\n",
       "      <th>G01000100201001005</th>\n",
       "      <td>2</td>\n",
       "      <td>1</td>\n",
       "      <td>3</td>\n",
       "      <td>1</td>\n",
       "      <td>851722.960376</td>\n",
       "      <td>-839950.956276</td>\n",
       "    </tr>\n",
       "    <tr>\n",
       "      <th>G01000100201001007</th>\n",
       "      <td>2</td>\n",
       "      <td>1</td>\n",
       "      <td>3</td>\n",
       "      <td>1</td>\n",
       "      <td>850601.906345</td>\n",
       "      <td>-839909.356047</td>\n",
       "    </tr>\n",
       "    <tr>\n",
       "      <th>G01000100201001009</th>\n",
       "      <td>2</td>\n",
       "      <td>1</td>\n",
       "      <td>3</td>\n",
       "      <td>1</td>\n",
       "      <td>850112.761817</td>\n",
       "      <td>-839274.668730</td>\n",
       "    </tr>\n",
       "    <tr>\n",
       "      <th>G01000100201001012</th>\n",
       "      <td>2</td>\n",
       "      <td>1</td>\n",
       "      <td>3</td>\n",
       "      <td>1</td>\n",
       "      <td>850839.478406</td>\n",
       "      <td>-840425.338462</td>\n",
       "    </tr>\n",
       "    <tr>\n",
       "      <th>G01000100201001013</th>\n",
       "      <td>2</td>\n",
       "      <td>1</td>\n",
       "      <td>3</td>\n",
       "      <td>1</td>\n",
       "      <td>850735.917925</td>\n",
       "      <td>-840424.238166</td>\n",
       "    </tr>\n",
       "    <tr>\n",
       "      <th>G01000100201001014</th>\n",
       "      <td>2</td>\n",
       "      <td>1</td>\n",
       "      <td>3</td>\n",
       "      <td>1</td>\n",
       "      <td>852486.911475</td>\n",
       "      <td>-840324.717015</td>\n",
       "    </tr>\n",
       "    <tr>\n",
       "      <th>G01000100201001015</th>\n",
       "      <td>2</td>\n",
       "      <td>1</td>\n",
       "      <td>3</td>\n",
       "      <td>1</td>\n",
       "      <td>852752.705652</td>\n",
       "      <td>-840354.746806</td>\n",
       "    </tr>\n",
       "    <tr>\n",
       "      <th>G01000100201001016</th>\n",
       "      <td>2</td>\n",
       "      <td>1</td>\n",
       "      <td>3</td>\n",
       "      <td>1</td>\n",
       "      <td>852753.926518</td>\n",
       "      <td>-840191.857212</td>\n",
       "    </tr>\n",
       "  </tbody>\n",
       "</table>\n",
       "</div>"
      ],
      "text/plain": [
       "                    ConDis  ConDis_clus  Labels  State             mx  \\\n",
       "GISJOIN                                                                 \n",
       "G01000100201001000       2            1       3      1  852302.864369   \n",
       "G01000100201001003       2            1       3      1  851692.013686   \n",
       "G01000100201001005       2            1       3      1  851722.960376   \n",
       "G01000100201001007       2            1       3      1  850601.906345   \n",
       "G01000100201001009       2            1       3      1  850112.761817   \n",
       "G01000100201001012       2            1       3      1  850839.478406   \n",
       "G01000100201001013       2            1       3      1  850735.917925   \n",
       "G01000100201001014       2            1       3      1  852486.911475   \n",
       "G01000100201001015       2            1       3      1  852752.705652   \n",
       "G01000100201001016       2            1       3      1  852753.926518   \n",
       "\n",
       "                               my  \n",
       "GISJOIN                            \n",
       "G01000100201001000 -839886.634163  \n",
       "G01000100201001003 -840059.221633  \n",
       "G01000100201001005 -839950.956276  \n",
       "G01000100201001007 -839909.356047  \n",
       "G01000100201001009 -839274.668730  \n",
       "G01000100201001012 -840425.338462  \n",
       "G01000100201001013 -840424.238166  \n",
       "G01000100201001014 -840324.717015  \n",
       "G01000100201001015 -840354.746806  \n",
       "G01000100201001016 -840191.857212  "
      ]
     },
     "execution_count": 129,
     "metadata": {},
     "output_type": "execute_result"
    }
   ],
   "source": [
    "final_db.head(10)"
   ]
  },
  {
   "cell_type": "code",
   "execution_count": 132,
   "metadata": {
    "collapsed": false
   },
   "outputs": [
    {
     "data": {
      "text/plain": [
       "251720"
      ]
     },
     "execution_count": 132,
     "metadata": {},
     "output_type": "execute_result"
    }
   ],
   "source": [
    "len(final_db.loc[np.isnan(final_db['Labels']),'Labels'])"
   ]
  },
  {
   "cell_type": "code",
   "execution_count": 133,
   "metadata": {
    "collapsed": false
   },
   "outputs": [
    {
     "data": {
      "text/plain": [
       "251720"
      ]
     },
     "execution_count": 133,
     "metadata": {},
     "output_type": "execute_result"
    }
   ],
   "source": [
    "len(to_label.Labels)"
   ]
  },
  {
   "cell_type": "code",
   "execution_count": 134,
   "metadata": {
    "collapsed": false
   },
   "outputs": [
    {
     "data": {
      "text/plain": [
       "387159"
      ]
     },
     "execution_count": 134,
     "metadata": {},
     "output_type": "execute_result"
    }
   ],
   "source": [
    "len(final_db)"
   ]
  },
  {
   "cell_type": "code",
   "execution_count": 135,
   "metadata": {
    "collapsed": false
   },
   "outputs": [
    {
     "data": {
      "text/plain": [
       "array([  3.,   6.,   0.,   1.,   5.,   2.,   4.,  nan])"
      ]
     },
     "execution_count": 135,
     "metadata": {},
     "output_type": "execute_result"
    }
   ],
   "source": [
    "final_db.Labels.unique()"
   ]
  },
  {
   "cell_type": "code",
   "execution_count": 136,
   "metadata": {
    "collapsed": true
   },
   "outputs": [],
   "source": [
    "final_db.loc[np.isnan(final_db['Labels']),'Labels'] = to_label.Labels"
   ]
  },
  {
   "cell_type": "code",
   "execution_count": 137,
   "metadata": {
    "collapsed": false
   },
   "outputs": [
    {
     "data": {
      "text/html": [
       "<div>\n",
       "<table border=\"1\" class=\"dataframe\">\n",
       "  <thead>\n",
       "    <tr style=\"text-align: right;\">\n",
       "      <th></th>\n",
       "      <th>ConDis</th>\n",
       "      <th>ConDis_clus</th>\n",
       "      <th>Labels</th>\n",
       "      <th>State</th>\n",
       "      <th>mx</th>\n",
       "      <th>my</th>\n",
       "    </tr>\n",
       "    <tr>\n",
       "      <th>GISJOIN</th>\n",
       "      <th></th>\n",
       "      <th></th>\n",
       "      <th></th>\n",
       "      <th></th>\n",
       "      <th></th>\n",
       "      <th></th>\n",
       "    </tr>\n",
       "  </thead>\n",
       "  <tbody>\n",
       "    <tr>\n",
       "      <th>G01000100201001000</th>\n",
       "      <td>2</td>\n",
       "      <td>1</td>\n",
       "      <td>3</td>\n",
       "      <td>1</td>\n",
       "      <td>852302.864369</td>\n",
       "      <td>-839886.634163</td>\n",
       "    </tr>\n",
       "    <tr>\n",
       "      <th>G01000100201001003</th>\n",
       "      <td>2</td>\n",
       "      <td>1</td>\n",
       "      <td>3</td>\n",
       "      <td>1</td>\n",
       "      <td>851692.013686</td>\n",
       "      <td>-840059.221633</td>\n",
       "    </tr>\n",
       "    <tr>\n",
       "      <th>G01000100201001005</th>\n",
       "      <td>2</td>\n",
       "      <td>1</td>\n",
       "      <td>3</td>\n",
       "      <td>1</td>\n",
       "      <td>851722.960376</td>\n",
       "      <td>-839950.956276</td>\n",
       "    </tr>\n",
       "    <tr>\n",
       "      <th>G01000100201001007</th>\n",
       "      <td>2</td>\n",
       "      <td>1</td>\n",
       "      <td>3</td>\n",
       "      <td>1</td>\n",
       "      <td>850601.906345</td>\n",
       "      <td>-839909.356047</td>\n",
       "    </tr>\n",
       "    <tr>\n",
       "      <th>G01000100201001009</th>\n",
       "      <td>2</td>\n",
       "      <td>1</td>\n",
       "      <td>3</td>\n",
       "      <td>1</td>\n",
       "      <td>850112.761817</td>\n",
       "      <td>-839274.668730</td>\n",
       "    </tr>\n",
       "    <tr>\n",
       "      <th>G01000100201001012</th>\n",
       "      <td>2</td>\n",
       "      <td>1</td>\n",
       "      <td>3</td>\n",
       "      <td>1</td>\n",
       "      <td>850839.478406</td>\n",
       "      <td>-840425.338462</td>\n",
       "    </tr>\n",
       "    <tr>\n",
       "      <th>G01000100201001013</th>\n",
       "      <td>2</td>\n",
       "      <td>1</td>\n",
       "      <td>3</td>\n",
       "      <td>1</td>\n",
       "      <td>850735.917925</td>\n",
       "      <td>-840424.238166</td>\n",
       "    </tr>\n",
       "    <tr>\n",
       "      <th>G01000100201001014</th>\n",
       "      <td>2</td>\n",
       "      <td>1</td>\n",
       "      <td>3</td>\n",
       "      <td>1</td>\n",
       "      <td>852486.911475</td>\n",
       "      <td>-840324.717015</td>\n",
       "    </tr>\n",
       "    <tr>\n",
       "      <th>G01000100201001015</th>\n",
       "      <td>2</td>\n",
       "      <td>1</td>\n",
       "      <td>3</td>\n",
       "      <td>1</td>\n",
       "      <td>852752.705652</td>\n",
       "      <td>-840354.746806</td>\n",
       "    </tr>\n",
       "    <tr>\n",
       "      <th>G01000100201001016</th>\n",
       "      <td>2</td>\n",
       "      <td>1</td>\n",
       "      <td>3</td>\n",
       "      <td>1</td>\n",
       "      <td>852753.926518</td>\n",
       "      <td>-840191.857212</td>\n",
       "    </tr>\n",
       "    <tr>\n",
       "      <th>G01000100201001018</th>\n",
       "      <td>2</td>\n",
       "      <td>1</td>\n",
       "      <td>3</td>\n",
       "      <td>1</td>\n",
       "      <td>851464.560550</td>\n",
       "      <td>-840272.462535</td>\n",
       "    </tr>\n",
       "    <tr>\n",
       "      <th>G01000100201001019</th>\n",
       "      <td>2</td>\n",
       "      <td>1</td>\n",
       "      <td>3</td>\n",
       "      <td>1</td>\n",
       "      <td>851577.289596</td>\n",
       "      <td>-840402.717496</td>\n",
       "    </tr>\n",
       "    <tr>\n",
       "      <th>G01000100201001023</th>\n",
       "      <td>2</td>\n",
       "      <td>1</td>\n",
       "      <td>3</td>\n",
       "      <td>1</td>\n",
       "      <td>852693.412155</td>\n",
       "      <td>-840506.528285</td>\n",
       "    </tr>\n",
       "    <tr>\n",
       "      <th>G01000100201001025</th>\n",
       "      <td>2</td>\n",
       "      <td>1</td>\n",
       "      <td>3</td>\n",
       "      <td>1</td>\n",
       "      <td>851711.142622</td>\n",
       "      <td>-841122.649562</td>\n",
       "    </tr>\n",
       "    <tr>\n",
       "      <th>G01000100201001026</th>\n",
       "      <td>2</td>\n",
       "      <td>1</td>\n",
       "      <td>3</td>\n",
       "      <td>1</td>\n",
       "      <td>850897.929730</td>\n",
       "      <td>-840588.358471</td>\n",
       "    </tr>\n",
       "    <tr>\n",
       "      <th>G01000100201001027</th>\n",
       "      <td>2</td>\n",
       "      <td>1</td>\n",
       "      <td>3</td>\n",
       "      <td>1</td>\n",
       "      <td>851863.664080</td>\n",
       "      <td>-842038.571827</td>\n",
       "    </tr>\n",
       "    <tr>\n",
       "      <th>G01000100201002001</th>\n",
       "      <td>2</td>\n",
       "      <td>1</td>\n",
       "      <td>3</td>\n",
       "      <td>1</td>\n",
       "      <td>851295.405384</td>\n",
       "      <td>-836680.860783</td>\n",
       "    </tr>\n",
       "    <tr>\n",
       "      <th>G01000100201002004</th>\n",
       "      <td>2</td>\n",
       "      <td>1</td>\n",
       "      <td>3</td>\n",
       "      <td>1</td>\n",
       "      <td>851896.814313</td>\n",
       "      <td>-836926.787932</td>\n",
       "    </tr>\n",
       "    <tr>\n",
       "      <th>G01000100201002005</th>\n",
       "      <td>2</td>\n",
       "      <td>1</td>\n",
       "      <td>3</td>\n",
       "      <td>1</td>\n",
       "      <td>851221.811979</td>\n",
       "      <td>-837227.409456</td>\n",
       "    </tr>\n",
       "    <tr>\n",
       "      <th>G01000100201002006</th>\n",
       "      <td>2</td>\n",
       "      <td>1</td>\n",
       "      <td>3</td>\n",
       "      <td>1</td>\n",
       "      <td>851271.914271</td>\n",
       "      <td>-838534.280116</td>\n",
       "    </tr>\n",
       "    <tr>\n",
       "      <th>G01000100201002007</th>\n",
       "      <td>2</td>\n",
       "      <td>1</td>\n",
       "      <td>3</td>\n",
       "      <td>1</td>\n",
       "      <td>850716.233467</td>\n",
       "      <td>-838090.449038</td>\n",
       "    </tr>\n",
       "    <tr>\n",
       "      <th>G01000100201002008</th>\n",
       "      <td>2</td>\n",
       "      <td>1</td>\n",
       "      <td>3</td>\n",
       "      <td>1</td>\n",
       "      <td>850588.252316</td>\n",
       "      <td>-838792.498777</td>\n",
       "    </tr>\n",
       "    <tr>\n",
       "      <th>G01000100201002010</th>\n",
       "      <td>2</td>\n",
       "      <td>1</td>\n",
       "      <td>3</td>\n",
       "      <td>1</td>\n",
       "      <td>850418.034955</td>\n",
       "      <td>-838964.680023</td>\n",
       "    </tr>\n",
       "    <tr>\n",
       "      <th>G01000100201002011</th>\n",
       "      <td>2</td>\n",
       "      <td>1</td>\n",
       "      <td>3</td>\n",
       "      <td>1</td>\n",
       "      <td>850308.897005</td>\n",
       "      <td>-839201.431243</td>\n",
       "    </tr>\n",
       "    <tr>\n",
       "      <th>G01000100201002012</th>\n",
       "      <td>2</td>\n",
       "      <td>1</td>\n",
       "      <td>3</td>\n",
       "      <td>1</td>\n",
       "      <td>850602.205649</td>\n",
       "      <td>-839199.830349</td>\n",
       "    </tr>\n",
       "    <tr>\n",
       "      <th>G01000100201002014</th>\n",
       "      <td>2</td>\n",
       "      <td>1</td>\n",
       "      <td>3</td>\n",
       "      <td>1</td>\n",
       "      <td>851007.924234</td>\n",
       "      <td>-839333.517163</td>\n",
       "    </tr>\n",
       "    <tr>\n",
       "      <th>G01000100201002015</th>\n",
       "      <td>2</td>\n",
       "      <td>1</td>\n",
       "      <td>3</td>\n",
       "      <td>1</td>\n",
       "      <td>851263.718457</td>\n",
       "      <td>-839460.968033</td>\n",
       "    </tr>\n",
       "    <tr>\n",
       "      <th>G01000100201002016</th>\n",
       "      <td>2</td>\n",
       "      <td>1</td>\n",
       "      <td>3</td>\n",
       "      <td>1</td>\n",
       "      <td>851695.174903</td>\n",
       "      <td>-839433.645134</td>\n",
       "    </tr>\n",
       "    <tr>\n",
       "      <th>G01000100201002017</th>\n",
       "      <td>2</td>\n",
       "      <td>1</td>\n",
       "      <td>3</td>\n",
       "      <td>1</td>\n",
       "      <td>852033.384498</td>\n",
       "      <td>-839037.768911</td>\n",
       "    </tr>\n",
       "    <tr>\n",
       "      <th>G01000100201002020</th>\n",
       "      <td>2</td>\n",
       "      <td>1</td>\n",
       "      <td>3</td>\n",
       "      <td>1</td>\n",
       "      <td>852152.087856</td>\n",
       "      <td>-839005.311858</td>\n",
       "    </tr>\n",
       "  </tbody>\n",
       "</table>\n",
       "</div>"
      ],
      "text/plain": [
       "                    ConDis  ConDis_clus  Labels  State             mx  \\\n",
       "GISJOIN                                                                 \n",
       "G01000100201001000       2            1       3      1  852302.864369   \n",
       "G01000100201001003       2            1       3      1  851692.013686   \n",
       "G01000100201001005       2            1       3      1  851722.960376   \n",
       "G01000100201001007       2            1       3      1  850601.906345   \n",
       "G01000100201001009       2            1       3      1  850112.761817   \n",
       "G01000100201001012       2            1       3      1  850839.478406   \n",
       "G01000100201001013       2            1       3      1  850735.917925   \n",
       "G01000100201001014       2            1       3      1  852486.911475   \n",
       "G01000100201001015       2            1       3      1  852752.705652   \n",
       "G01000100201001016       2            1       3      1  852753.926518   \n",
       "G01000100201001018       2            1       3      1  851464.560550   \n",
       "G01000100201001019       2            1       3      1  851577.289596   \n",
       "G01000100201001023       2            1       3      1  852693.412155   \n",
       "G01000100201001025       2            1       3      1  851711.142622   \n",
       "G01000100201001026       2            1       3      1  850897.929730   \n",
       "G01000100201001027       2            1       3      1  851863.664080   \n",
       "G01000100201002001       2            1       3      1  851295.405384   \n",
       "G01000100201002004       2            1       3      1  851896.814313   \n",
       "G01000100201002005       2            1       3      1  851221.811979   \n",
       "G01000100201002006       2            1       3      1  851271.914271   \n",
       "G01000100201002007       2            1       3      1  850716.233467   \n",
       "G01000100201002008       2            1       3      1  850588.252316   \n",
       "G01000100201002010       2            1       3      1  850418.034955   \n",
       "G01000100201002011       2            1       3      1  850308.897005   \n",
       "G01000100201002012       2            1       3      1  850602.205649   \n",
       "G01000100201002014       2            1       3      1  851007.924234   \n",
       "G01000100201002015       2            1       3      1  851263.718457   \n",
       "G01000100201002016       2            1       3      1  851695.174903   \n",
       "G01000100201002017       2            1       3      1  852033.384498   \n",
       "G01000100201002020       2            1       3      1  852152.087856   \n",
       "\n",
       "                               my  \n",
       "GISJOIN                            \n",
       "G01000100201001000 -839886.634163  \n",
       "G01000100201001003 -840059.221633  \n",
       "G01000100201001005 -839950.956276  \n",
       "G01000100201001007 -839909.356047  \n",
       "G01000100201001009 -839274.668730  \n",
       "G01000100201001012 -840425.338462  \n",
       "G01000100201001013 -840424.238166  \n",
       "G01000100201001014 -840324.717015  \n",
       "G01000100201001015 -840354.746806  \n",
       "G01000100201001016 -840191.857212  \n",
       "G01000100201001018 -840272.462535  \n",
       "G01000100201001019 -840402.717496  \n",
       "G01000100201001023 -840506.528285  \n",
       "G01000100201001025 -841122.649562  \n",
       "G01000100201001026 -840588.358471  \n",
       "G01000100201001027 -842038.571827  \n",
       "G01000100201002001 -836680.860783  \n",
       "G01000100201002004 -836926.787932  \n",
       "G01000100201002005 -837227.409456  \n",
       "G01000100201002006 -838534.280116  \n",
       "G01000100201002007 -838090.449038  \n",
       "G01000100201002008 -838792.498777  \n",
       "G01000100201002010 -838964.680023  \n",
       "G01000100201002011 -839201.431243  \n",
       "G01000100201002012 -839199.830349  \n",
       "G01000100201002014 -839333.517163  \n",
       "G01000100201002015 -839460.968033  \n",
       "G01000100201002016 -839433.645134  \n",
       "G01000100201002017 -839037.768911  \n",
       "G01000100201002020 -839005.311858  "
      ]
     },
     "execution_count": 137,
     "metadata": {},
     "output_type": "execute_result"
    }
   ],
   "source": [
    "final_db.head(30)"
   ]
  },
  {
   "cell_type": "code",
   "execution_count": 138,
   "metadata": {
    "collapsed": false
   },
   "outputs": [
    {
     "data": {
      "text/plain": [
       "387159"
      ]
     },
     "execution_count": 138,
     "metadata": {},
     "output_type": "execute_result"
    }
   ],
   "source": [
    "len(final_db)"
   ]
  },
  {
   "cell_type": "code",
   "execution_count": 139,
   "metadata": {
    "collapsed": false
   },
   "outputs": [
    {
     "data": {
      "text/plain": [
       "array([ 3.,  6.,  0.,  1.,  5.,  2.,  4.])"
      ]
     },
     "execution_count": 139,
     "metadata": {},
     "output_type": "execute_result"
    }
   ],
   "source": [
    "final_db.Labels.unique()"
   ]
  },
  {
   "cell_type": "code",
   "execution_count": 140,
   "metadata": {
    "collapsed": true
   },
   "outputs": [],
   "source": [
    "final_db.ConDis = final_db.ConDis - 1"
   ]
  },
  {
   "cell_type": "code",
   "execution_count": 141,
   "metadata": {
    "collapsed": false
   },
   "outputs": [
    {
     "data": {
      "text/html": [
       "<div>\n",
       "<table border=\"1\" class=\"dataframe\">\n",
       "  <thead>\n",
       "    <tr style=\"text-align: right;\">\n",
       "      <th></th>\n",
       "      <th>ConDis</th>\n",
       "      <th>ConDis_clus</th>\n",
       "      <th>Labels</th>\n",
       "      <th>State</th>\n",
       "      <th>mx</th>\n",
       "      <th>my</th>\n",
       "    </tr>\n",
       "    <tr>\n",
       "      <th>GISJOIN</th>\n",
       "      <th></th>\n",
       "      <th></th>\n",
       "      <th></th>\n",
       "      <th></th>\n",
       "      <th></th>\n",
       "      <th></th>\n",
       "    </tr>\n",
       "  </thead>\n",
       "  <tbody>\n",
       "    <tr>\n",
       "      <th>G01000100201001000</th>\n",
       "      <td>1</td>\n",
       "      <td>1</td>\n",
       "      <td>3</td>\n",
       "      <td>1</td>\n",
       "      <td>852302.864369</td>\n",
       "      <td>-839886.634163</td>\n",
       "    </tr>\n",
       "    <tr>\n",
       "      <th>G01000100201001003</th>\n",
       "      <td>1</td>\n",
       "      <td>1</td>\n",
       "      <td>3</td>\n",
       "      <td>1</td>\n",
       "      <td>851692.013686</td>\n",
       "      <td>-840059.221633</td>\n",
       "    </tr>\n",
       "    <tr>\n",
       "      <th>G01000100201001005</th>\n",
       "      <td>1</td>\n",
       "      <td>1</td>\n",
       "      <td>3</td>\n",
       "      <td>1</td>\n",
       "      <td>851722.960376</td>\n",
       "      <td>-839950.956276</td>\n",
       "    </tr>\n",
       "    <tr>\n",
       "      <th>G01000100201001007</th>\n",
       "      <td>1</td>\n",
       "      <td>1</td>\n",
       "      <td>3</td>\n",
       "      <td>1</td>\n",
       "      <td>850601.906345</td>\n",
       "      <td>-839909.356047</td>\n",
       "    </tr>\n",
       "    <tr>\n",
       "      <th>G01000100201001009</th>\n",
       "      <td>1</td>\n",
       "      <td>1</td>\n",
       "      <td>3</td>\n",
       "      <td>1</td>\n",
       "      <td>850112.761817</td>\n",
       "      <td>-839274.668730</td>\n",
       "    </tr>\n",
       "  </tbody>\n",
       "</table>\n",
       "</div>"
      ],
      "text/plain": [
       "                    ConDis  ConDis_clus  Labels  State             mx  \\\n",
       "GISJOIN                                                                 \n",
       "G01000100201001000       1            1       3      1  852302.864369   \n",
       "G01000100201001003       1            1       3      1  851692.013686   \n",
       "G01000100201001005       1            1       3      1  851722.960376   \n",
       "G01000100201001007       1            1       3      1  850601.906345   \n",
       "G01000100201001009       1            1       3      1  850112.761817   \n",
       "\n",
       "                               my  \n",
       "GISJOIN                            \n",
       "G01000100201001000 -839886.634163  \n",
       "G01000100201001003 -840059.221633  \n",
       "G01000100201001005 -839950.956276  \n",
       "G01000100201001007 -839909.356047  \n",
       "G01000100201001009 -839274.668730  "
      ]
     },
     "execution_count": 141,
     "metadata": {},
     "output_type": "execute_result"
    }
   ],
   "source": [
    "final_db.head()"
   ]
  },
  {
   "cell_type": "code",
   "execution_count": 149,
   "metadata": {
    "collapsed": false
   },
   "outputs": [
    {
     "data": {
      "text/plain": [
       "251720"
      ]
     },
     "execution_count": 149,
     "metadata": {},
     "output_type": "execute_result"
    }
   ],
   "source": [
    "len(final_db.loc[np.isnan(final_db['ConDis_clus']),'Labels'])"
   ]
  },
  {
   "cell_type": "code",
   "execution_count": 150,
   "metadata": {
    "collapsed": false
   },
   "outputs": [],
   "source": [
    "final_db.sort_values('Labels',inplace=True)"
   ]
  },
  {
   "cell_type": "code",
   "execution_count": 151,
   "metadata": {
    "collapsed": false
   },
   "outputs": [
    {
     "data": {
      "text/html": [
       "<div>\n",
       "<table border=\"1\" class=\"dataframe\">\n",
       "  <thead>\n",
       "    <tr style=\"text-align: right;\">\n",
       "      <th></th>\n",
       "      <th>ConDis</th>\n",
       "      <th>ConDis_clus</th>\n",
       "      <th>Labels</th>\n",
       "      <th>State</th>\n",
       "      <th>mx</th>\n",
       "      <th>my</th>\n",
       "    </tr>\n",
       "    <tr>\n",
       "      <th>GISJOIN</th>\n",
       "      <th></th>\n",
       "      <th></th>\n",
       "      <th></th>\n",
       "      <th></th>\n",
       "      <th></th>\n",
       "      <th></th>\n",
       "    </tr>\n",
       "  </thead>\n",
       "  <tbody>\n",
       "    <tr>\n",
       "      <th>G01004500204001016</th>\n",
       "      <td>1</td>\n",
       "      <td>NaN</td>\n",
       "      <td>0</td>\n",
       "      <td>1</td>\n",
       "      <td>938871.673690</td>\n",
       "      <td>-945658.375042</td>\n",
       "    </tr>\n",
       "    <tr>\n",
       "      <th>G01010100015003018</th>\n",
       "      <td>2</td>\n",
       "      <td>NaN</td>\n",
       "      <td>0</td>\n",
       "      <td>1</td>\n",
       "      <td>870052.093899</td>\n",
       "      <td>-850085.883873</td>\n",
       "    </tr>\n",
       "    <tr>\n",
       "      <th>G01010100015003019</th>\n",
       "      <td>2</td>\n",
       "      <td>NaN</td>\n",
       "      <td>0</td>\n",
       "      <td>1</td>\n",
       "      <td>870002.948517</td>\n",
       "      <td>-850159.232783</td>\n",
       "    </tr>\n",
       "    <tr>\n",
       "      <th>G01010100015003020</th>\n",
       "      <td>2</td>\n",
       "      <td>NaN</td>\n",
       "      <td>0</td>\n",
       "      <td>1</td>\n",
       "      <td>869766.652842</td>\n",
       "      <td>-850373.132174</td>\n",
       "    </tr>\n",
       "    <tr>\n",
       "      <th>G01010100015003021</th>\n",
       "      <td>2</td>\n",
       "      <td>NaN</td>\n",
       "      <td>0</td>\n",
       "      <td>1</td>\n",
       "      <td>870197.458955</td>\n",
       "      <td>-850355.958182</td>\n",
       "    </tr>\n",
       "  </tbody>\n",
       "</table>\n",
       "</div>"
      ],
      "text/plain": [
       "                    ConDis  ConDis_clus  Labels  State             mx  \\\n",
       "GISJOIN                                                                 \n",
       "G01004500204001016       1          NaN       0      1  938871.673690   \n",
       "G01010100015003018       2          NaN       0      1  870052.093899   \n",
       "G01010100015003019       2          NaN       0      1  870002.948517   \n",
       "G01010100015003020       2          NaN       0      1  869766.652842   \n",
       "G01010100015003021       2          NaN       0      1  870197.458955   \n",
       "\n",
       "                               my  \n",
       "GISJOIN                            \n",
       "G01004500204001016 -945658.375042  \n",
       "G01010100015003018 -850085.883873  \n",
       "G01010100015003019 -850159.232783  \n",
       "G01010100015003020 -850373.132174  \n",
       "G01010100015003021 -850355.958182  "
      ]
     },
     "execution_count": 151,
     "metadata": {},
     "output_type": "execute_result"
    }
   ],
   "source": [
    "final_db.head()"
   ]
  },
  {
   "cell_type": "code",
   "execution_count": null,
   "metadata": {
    "collapsed": true
   },
   "outputs": [],
   "source": []
  }
 ],
 "metadata": {
  "kernelspec": {
   "display_name": "Python 2",
   "language": "python",
   "name": "python2"
  },
  "language_info": {
   "codemirror_mode": {
    "name": "ipython",
    "version": 2
   },
   "file_extension": ".py",
   "mimetype": "text/x-python",
   "name": "python",
   "nbconvert_exporter": "python",
   "pygments_lexer": "ipython2",
   "version": "2.7.12"
  }
 },
 "nbformat": 4,
 "nbformat_minor": 0
}
